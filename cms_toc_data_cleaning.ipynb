{
 "cells": [
  {
   "cell_type": "markdown",
   "id": "b565bfca-b7c0-42e8-a4c7-ea2642d2406d",
   "metadata": {},
   "source": [
    "# CMS Timeliness of Care - Data Cleaning\n",
    "---"
   ]
  },
  {
   "cell_type": "code",
   "execution_count": 1,
   "id": "592ef064-be47-4633-bc8d-fce279248982",
   "metadata": {},
   "outputs": [],
   "source": [
    "import pandas as pd\n",
    "import addfips as af\n",
    "from uszipcode import SearchEngine\n",
    "from get_cleaned_cms import cms\n",
    "from get_ms_la_al import shpsa"
   ]
  },
  {
   "cell_type": "code",
   "execution_count": 2,
   "id": "6512ef10-7d44-4b89-a5b1-8ff8941e7420",
   "metadata": {},
   "outputs": [],
   "source": [
    "# Create a list called files for the string paths to the raw data\n",
    "files = ['raw_data/2016_Timely and Effective Care - Hospital.csv', 'raw_data/2017_Timely and Effective Care - Hospital.csv',\n",
    "         'raw_data/2018_Timely and Effective Care - Hospital.csv', 'raw_data/2019_Timely and Effective Care - Hospital.csv',\n",
    "         'raw_data/2020_Timely_and_Effective_Care-Hospital.csv', 'raw_data/2021_Timely_and_Effective_Care-Hospital.csv',\n",
    "         'raw_data/2022_Timely_and_Effective_Care-Hospital.csv', 'raw_data/2023_Timely_and_Effective_Care-Hospital.csv']\n",
    "\n",
    "# Create an empty list called dfs to hold the dataframes, then read the .csvs and append to dfs\n",
    "dfs = []\n",
    "for file in files:\n",
    "    dfs.append(pd.read_csv(file, encoding = 'iso-8859-1'))\n",
    "\n",
    "# Union all dataframes in dfs into one dataframe called toc\n",
    "toc = pd.concat(dfs, ignore_index = True)"
   ]
  },
  {
   "cell_type": "code",
   "execution_count": 3,
   "id": "721723b9-9aff-4c28-ac6e-e8026c93cc22",
   "metadata": {},
   "outputs": [
    {
     "name": "stdout",
     "output_type": "stream",
     "text": [
      "<class 'pandas.core.frame.DataFrame'>\n",
      "RangeIndex: 773480 entries, 0 to 773479\n",
      "Data columns (total 18 columns):\n",
      " #   Column         Non-Null Count   Dtype \n",
      "---  ------         --------------   ----- \n",
      " 0   Year           773480 non-null  int64 \n",
      " 1   Quarter        773480 non-null  object\n",
      " 2   Facility ID    773480 non-null  object\n",
      " 3   Facility Name  773480 non-null  object\n",
      " 4   Address        773480 non-null  object\n",
      " 5   City           773480 non-null  object\n",
      " 6   State          773480 non-null  object\n",
      " 7   ZIP Code       773480 non-null  int64 \n",
      " 8   County Name    772475 non-null  object\n",
      " 9   Phone Number   773480 non-null  object\n",
      " 10  Condition      773480 non-null  object\n",
      " 11  Measure ID     773480 non-null  object\n",
      " 12  Measure Name   773480 non-null  object\n",
      " 13  Score          773479 non-null  object\n",
      " 14  Sample         735442 non-null  object\n",
      " 15  Footnote       493298 non-null  object\n",
      " 16  Start Date     773480 non-null  object\n",
      " 17  End Date       773480 non-null  object\n",
      "dtypes: int64(2), object(16)\n",
      "memory usage: 106.2+ MB\n"
     ]
    }
   ],
   "source": [
    "# Get info about dataframe\n",
    "toc.info()"
   ]
  },
  {
   "cell_type": "markdown",
   "id": "0c9f41cd-a2ec-46f3-842f-627301fcea87",
   "metadata": {},
   "source": [
    "#### Drop unnecessary columns"
   ]
  },
  {
   "cell_type": "code",
   "execution_count": 4,
   "id": "d27f2708-db43-4914-9e22-f880fc8d551b",
   "metadata": {},
   "outputs": [],
   "source": [
    "# Identify columns to be dropped\n",
    "cols_to_drop = ['Address', 'Phone Number', 'Footnote', 'Start Date', 'End Date']\n",
    "\n",
    "toc = toc.drop(columns = cols_to_drop)"
   ]
  },
  {
   "cell_type": "code",
   "execution_count": 5,
   "id": "e87c119b-6e25-4331-8e5c-f3674b3f0521",
   "metadata": {},
   "outputs": [],
   "source": [
    "# Replace state abbrevations in State column with actual state names for states of interest\n",
    "state_mapping = {\n",
    "    'AL': 'Alabama',\n",
    "    'LA': 'Louisiana',\n",
    "    'MS': 'Mississippi'\n",
    "}\n",
    "\n",
    "toc['State'] = toc['State'].replace(state_mapping)"
   ]
  },
  {
   "cell_type": "markdown",
   "id": "f08eb42e-8c64-4ebd-985d-085846dfee13",
   "metadata": {},
   "source": [
    "#### I want to add a column named `Common State County FIPS Code` to the `toc` dataframe.  Use the *uszipcode* library to get county name, latitude, & longitude.  Then use the *addfips* library to get the county FIPS code based on the state and county name."
   ]
  },
  {
   "cell_type": "code",
   "execution_count": 6,
   "id": "9b52dd30-c625-4330-8dfd-b7994d9e63fe",
   "metadata": {},
   "outputs": [],
   "source": [
    "# Get the unique ZIP codes in the toc dataframe\n",
    "zips = toc['ZIP Code'].unique()\n",
    "\n",
    "# Convert zips to a list of string ZIP codes (because uszipcode library searches based on a string)\n",
    "zips = zips.astype(str).tolist()"
   ]
  },
  {
   "cell_type": "markdown",
   "id": "102e5a50-d1bc-4c23-ba99-af7221ac9916",
   "metadata": {},
   "source": [
    "#### Get state, county name, latitude, and longitude for each ZIP code."
   ]
  },
  {
   "cell_type": "code",
   "execution_count": 7,
   "id": "58ee993d-2de0-4c76-a835-cd68ba93f7d8",
   "metadata": {},
   "outputs": [],
   "source": [
    "# Create a search engine\n",
    "search = SearchEngine()\n",
    "\n",
    "# Create empty dictionary to store the state, county, latitude, & longitude for each ZIP code\n",
    "zip_map = {}\n",
    "\n",
    "# Look up each ZIP code, and if that ZIP is in the uszipcode database, add relevant info to zip_map\n",
    "for zip_code in zips:\n",
    "    info = search.by_zipcode(zip_code)\n",
    "    if info:\n",
    "        zip_map[zip_code] = {\n",
    "            'State': info.state,\n",
    "            'County': info.county,\n",
    "            'Latitude': info.lat,\n",
    "            'Longitude': info.lng\n",
    "        }"
   ]
  },
  {
   "cell_type": "markdown",
   "id": "cb067576-9706-4559-a890-e9a62b2c3356",
   "metadata": {},
   "source": [
    "#### Get the county FIPS code for each ZIP code."
   ]
  },
  {
   "cell_type": "code",
   "execution_count": 8,
   "id": "7f20b545-6cf4-4fef-ab22-25479b670ebd",
   "metadata": {},
   "outputs": [],
   "source": [
    "# Initialize AddFIPS object called fips_tool\n",
    "fips_tool = af.AddFIPS()\n",
    "\n",
    "# For each ZIP code in zip_map, get the county FIPS code\n",
    "for zip_code in zip_map:\n",
    "    county = zip_map[zip_code]['County']\n",
    "    state = zip_map[zip_code]['State']\n",
    "    county_fips = fips_tool.get_county_fips(county, state)\n",
    "    # Add the FIPS code to that ZIP code's dictionary in zip_map\n",
    "    zip_map[zip_code]['Common State County FIPS Code'] = county_fips"
   ]
  },
  {
   "cell_type": "markdown",
   "id": "f1a0ff62-31fa-40c4-a575-64464bc4829d",
   "metadata": {},
   "source": [
    "#### Add county name, county FIPS code, latitude, & longitude into `toc` dataframe."
   ]
  },
  {
   "cell_type": "code",
   "execution_count": 9,
   "id": "74e42dd9-ae68-4e73-85c3-ece21fd0efd3",
   "metadata": {},
   "outputs": [],
   "source": [
    "# Define a function called lookup that retrieves a value associated with a specific key for each ZIP code in zip_map\n",
    "def lookup(zip_code, key):\n",
    "    return zip_map[zip_code][key]\n",
    "\n",
    "# Define the keys that will be added as columns to cms\n",
    "keys = ['County', 'Common State County FIPS Code', 'Latitude', 'Longitude']\n",
    "\n",
    "# For each key, create a new column in cms, & use the apply method to store the evaluated result of lookup() as the column values\n",
    "for key in keys:\n",
    "    toc[key] = toc['ZIP Code'].apply(lambda x: lookup(str(x), key))"
   ]
  },
  {
   "cell_type": "code",
   "execution_count": 10,
   "id": "87e20181-43b2-499e-bad7-bf33900ee470",
   "metadata": {},
   "outputs": [
    {
     "data": {
      "text/plain": [
       "(773480, 17)"
      ]
     },
     "execution_count": 10,
     "metadata": {},
     "output_type": "execute_result"
    }
   ],
   "source": [
    "# Get shape of toc dataframe\n",
    "toc.shape"
   ]
  },
  {
   "cell_type": "markdown",
   "id": "ac6cdb7f-1426-4704-91f6-0d0686b093c5",
   "metadata": {},
   "source": [
    "#### Drop all rows from measures I won't be exploring."
   ]
  },
  {
   "cell_type": "code",
   "execution_count": 11,
   "id": "656e9209-505d-4228-85a7-456d9709f002",
   "metadata": {},
   "outputs": [
    {
     "data": {
      "text/plain": [
       "array(['ED_1b', 'ED_2b', 'EDV', 'IMM_2', 'IMM_3_OP_27_FAC_ADHPCT', 'OP_1',\n",
       "       'OP_18b', 'OP_2', 'OP_20', 'OP_21', 'OP_22', 'OP_23', 'OP_29',\n",
       "       'OP_30', 'OP_31', 'OP_3b', 'OP_4', 'OP_5', 'PC_01', 'STK_4',\n",
       "       'VTE_5', 'VTE_6', 'OP_18c', 'OP_33', 'SEP_1', 'IMM_3',\n",
       "       'SEP_SH_3HR', 'SEP_SH_6HR', 'SEV_SEP_3HR', 'SEV_SEP_6HR',\n",
       "       'HCP_COVID_19', 'ED_2_Strata_1', 'ED_2_Strata_2',\n",
       "       'SAFE_USE_OF_OPIOIDS', 'STK_02', 'STK_03', 'STK_05', 'STK_06',\n",
       "       'VTE_1', 'VTE_2'], dtype=object)"
      ]
     },
     "execution_count": 11,
     "metadata": {},
     "output_type": "execute_result"
    }
   ],
   "source": [
    "# Get all measures in toc dataframe\n",
    "toc['Measure ID'].unique()"
   ]
  },
  {
   "cell_type": "code",
   "execution_count": 12,
   "id": "675ddc60-b994-4e29-a8c2-9229bb175897",
   "metadata": {},
   "outputs": [],
   "source": [
    "# Define measures of interest\n",
    "measures_to_keep = ['OP_4', 'OP_18b', 'OP_20', 'OP_21', 'OP_22', 'ED_2b']"
   ]
  },
  {
   "cell_type": "code",
   "execution_count": 13,
   "id": "13a1193a-fabf-4ea9-8de5-a1e2ec9acf02",
   "metadata": {},
   "outputs": [],
   "source": [
    "# Drop irrelevant rows\n",
    "toc = toc[toc['Measure ID'].isin(measures_to_keep)]"
   ]
  },
  {
   "cell_type": "code",
   "execution_count": 14,
   "id": "250f9f87-5b9a-450d-acef-375ba88a2754",
   "metadata": {},
   "outputs": [
    {
     "data": {
      "text/plain": [
       "OP_18b    38037\n",
       "OP_22     38037\n",
       "ED_2b     23910\n",
       "OP_20     14412\n",
       "OP_21     14412\n",
       "OP_4      14412\n",
       "Name: Measure ID, dtype: int64"
      ]
     },
     "execution_count": 14,
     "metadata": {},
     "output_type": "execute_result"
    }
   ],
   "source": [
    "# Check values in Measure ID column\n",
    "toc['Measure ID'].value_counts()"
   ]
  },
  {
   "cell_type": "code",
   "execution_count": 15,
   "id": "0592c0ee-8f83-4316-b81b-f61b805c7f1b",
   "metadata": {},
   "outputs": [
    {
     "data": {
      "text/plain": [
       "array(['ED2', 'OP 18', 'Door to diagnostic eval',\n",
       "       'Median time to pain med', 'Left before being seen',\n",
       "       'Aspirin at Arrival',\n",
       "       'Average (median) time patients spent in the emergency department, after the doctor decided to admit them as an inpatient before leaving the emergency department for their inpatient room A lower number of minutes is better',\n",
       "       'Average (median) time patients spent in the emergency department before leaving from the visit A lower number of minutes is better'],\n",
       "      dtype=object)"
      ]
     },
     "execution_count": 15,
     "metadata": {},
     "output_type": "execute_result"
    }
   ],
   "source": [
    "# Get names of each measure\n",
    "toc['Measure Name'].unique()"
   ]
  },
  {
   "cell_type": "code",
   "execution_count": 16,
   "id": "19cc02ef-4880-41a7-9dce-d7937b2edf85",
   "metadata": {},
   "outputs": [],
   "source": [
    "# Replace measure strings in Measure Name column with more intuitive names\n",
    "measure_mapping = {\n",
    "    'OP 18': 'Median Time Spent in ED Before Leaving',\n",
    "    'Door to diagnostic eval': 'Median Time Spent in ED Before Seen by Health Professional',\n",
    "    'Median time to pain med': 'Median Time to Pain Medicine',\n",
    "    'Left before being seen': '% of Patients Left Before Being Seen',\n",
    "    'Aspirin at Arrival': 'Median Time to Pain Medicine',\n",
    "    'Average (median) time patients spent in the emergency department before leaving from the visit A lower number of minutes is better': 'Median Time Spent in ED Before Leaving',\n",
    "    'ED2': 'Median Admit Decision Time to ED Departure Time As Inpatient',\n",
    "    'Average (median) time patients spent in the emergency department, after the doctor decided to admit them as an inpatient before leaving the emergency department for their inpatient room A lower number of minutes is better': 'Median Admit Decision Time to ED Departure Time As Inpatient'\n",
    "}\n",
    "\n",
    "toc['Measure Name'] = toc['Measure Name'].replace(measure_mapping)"
   ]
  },
  {
   "cell_type": "code",
   "execution_count": 17,
   "id": "acc83b1b-ff65-4496-a895-ecd7910a24ca",
   "metadata": {},
   "outputs": [
    {
     "data": {
      "text/plain": [
       "Median Time Spent in ED Before Leaving                          38037\n",
       "% of Patients Left Before Being Seen                            38037\n",
       "Median Time to Pain Medicine                                    28824\n",
       "Median Admit Decision Time to ED Departure Time As Inpatient    23910\n",
       "Median Time Spent in ED Before Seen by Health Professional      14412\n",
       "Name: Measure Name, dtype: int64"
      ]
     },
     "execution_count": 17,
     "metadata": {},
     "output_type": "execute_result"
    }
   ],
   "source": [
    "# Check that mapping worked\n",
    "toc['Measure Name'].value_counts()"
   ]
  },
  {
   "cell_type": "markdown",
   "id": "88be5929-164d-4396-9ceb-14c95c84e2d8",
   "metadata": {},
   "source": [
    "#### Clean the `Score` column."
   ]
  },
  {
   "cell_type": "code",
   "execution_count": 18,
   "id": "2aeadd6c-97b0-4d72-913e-f0060704fb7f",
   "metadata": {},
   "outputs": [],
   "source": [
    "# Drop rows where Score is Not Available\n",
    "toc = toc[toc['Score'] != 'Not Available']"
   ]
  },
  {
   "cell_type": "code",
   "execution_count": 19,
   "id": "71516948-946e-40a4-9921-6b853391eee0",
   "metadata": {},
   "outputs": [
    {
     "data": {
      "text/plain": [
       "dtype('O')"
      ]
     },
     "execution_count": 19,
     "metadata": {},
     "output_type": "execute_result"
    }
   ],
   "source": [
    "# Check the datatype of the column\n",
    "toc['Score'].dtype"
   ]
  },
  {
   "cell_type": "code",
   "execution_count": 20,
   "id": "3aaa1259-d055-4255-8e8b-33dbd8df35d7",
   "metadata": {},
   "outputs": [
    {
     "data": {
      "text/plain": [
       "dtype('float64')"
      ]
     },
     "execution_count": 20,
     "metadata": {},
     "output_type": "execute_result"
    }
   ],
   "source": [
    "# Change the datatype to float\n",
    "toc['Score'] = toc['Score'].astype('float')\n",
    "\n",
    "# Check to see that the conversion worked\n",
    "toc['Score'].dtype"
   ]
  },
  {
   "cell_type": "markdown",
   "id": "18663744-f11c-41f4-bbf4-04a366289a34",
   "metadata": {},
   "source": [
    "#### Clean the `Facility ID` column."
   ]
  },
  {
   "cell_type": "code",
   "execution_count": 21,
   "id": "b2faebf2-6674-4452-a737-b549856b4b4e",
   "metadata": {},
   "outputs": [],
   "source": [
    "# Convert all values in Facility ID column to string datatype\n",
    "toc['Facility ID'] = toc['Facility ID'].astype(str)"
   ]
  },
  {
   "cell_type": "markdown",
   "id": "8f7fff38-0893-4a7e-a649-688f0f2f1a41",
   "metadata": {},
   "source": [
    "#### Only keep rows from acute care hospitals.  (Use `cms` dataframe to help with this, since there's no Hospital Type column in the Timeliness of Care datasets.)"
   ]
  },
  {
   "cell_type": "code",
   "execution_count": 22,
   "id": "a6321ecd-c537-42e4-be86-06f04df5ef21",
   "metadata": {},
   "outputs": [],
   "source": [
    "# Define the hospital type of interest\n",
    "acute_types = ['Acute Care Hospitals', 'Acute Care - Veterans Administration', 'Acute Care - Department of Defense']\n",
    "\n",
    "# Subset the cms dataframe, keeping only rows from acute care hospitals\n",
    "acms = cms[cms['Hospital Type'].isin(acute_types)]\n",
    "\n",
    "acute_facilities = acms['Facility ID'].unique()"
   ]
  },
  {
   "cell_type": "code",
   "execution_count": 23,
   "id": "1c27fb1f-5cd5-4a59-a10a-7ace4bdcf827",
   "metadata": {},
   "outputs": [
    {
     "data": {
      "text/plain": [
       "(108230, 17)"
      ]
     },
     "execution_count": 23,
     "metadata": {},
     "output_type": "execute_result"
    }
   ],
   "source": [
    "# Get current shape of toc\n",
    "toc.shape"
   ]
  },
  {
   "cell_type": "code",
   "execution_count": 24,
   "id": "6813e4e9-6a71-4e7a-b263-3ad2cca4fd62",
   "metadata": {},
   "outputs": [],
   "source": [
    "# Only keep the rows in toc from acute care facilities\n",
    "toc = toc[toc['Facility ID'].isin(acute_facilities)]"
   ]
  },
  {
   "cell_type": "code",
   "execution_count": 25,
   "id": "f0e3154a-96d5-4e28-8abb-6c0b8cd00929",
   "metadata": {},
   "outputs": [
    {
     "data": {
      "text/plain": [
       "(5781, 17)"
      ]
     },
     "execution_count": 25,
     "metadata": {},
     "output_type": "execute_result"
    }
   ],
   "source": [
    "# Get the shape of toc after dropping rows\n",
    "toc.shape"
   ]
  },
  {
   "cell_type": "code",
   "execution_count": 26,
   "id": "e5ff9940-5d8b-43f0-a660-9d3f76c37322",
   "metadata": {},
   "outputs": [],
   "source": [
    "# Add a column to toc dataframe for Hospital Ownership\n",
    "for index, row in toc.iterrows():\n",
    "    facility_id = row['Facility ID']\n",
    "    matching_row = acms.loc[acms['Facility ID'] == facility_id]\n",
    "    toc.at[index, 'Hospital Ownership'] = matching_row['Hospital Ownership'].values[0]"
   ]
  },
  {
   "cell_type": "code",
   "execution_count": 27,
   "id": "082ba092-f456-4510-be9a-728060570106",
   "metadata": {},
   "outputs": [],
   "source": [
    "# Export existing toc dataframe to csv\n",
    "# toc.to_csv('cleaned_data/all_states_toc.csv', index = False)"
   ]
  },
  {
   "cell_type": "markdown",
   "id": "ba155300-0616-496e-8f3b-5f399ead5433",
   "metadata": {},
   "source": [
    "#### Keep only rows from Alabama, Mississippi, & Louisiana."
   ]
  },
  {
   "cell_type": "code",
   "execution_count": 28,
   "id": "c3741358-641e-4c4b-8e5f-a466f1520720",
   "metadata": {},
   "outputs": [
    {
     "data": {
      "text/plain": [
       "array(['Alabama', 'Louisiana', 'Mississippi'], dtype=object)"
      ]
     },
     "execution_count": 28,
     "metadata": {},
     "output_type": "execute_result"
    }
   ],
   "source": [
    "# Get all state names\n",
    "toc['State'].unique()"
   ]
  },
  {
   "cell_type": "code",
   "execution_count": 29,
   "id": "12a4c7a5-aa25-4c39-9722-e671b881e2a8",
   "metadata": {},
   "outputs": [],
   "source": [
    "# Drop all states except Alabama, Mississippi, & Louisiana\n",
    "states = ['Alabama', 'Mississippi', 'Louisiana']\n",
    "\n",
    "toc = toc[toc['State'].isin(states)]"
   ]
  },
  {
   "cell_type": "code",
   "execution_count": 30,
   "id": "08e2e70c-0b87-4813-9e64-8fed8498e6ba",
   "metadata": {},
   "outputs": [
    {
     "data": {
      "text/plain": [
       "array(['Alabama', 'Louisiana', 'Mississippi'], dtype=object)"
      ]
     },
     "execution_count": 30,
     "metadata": {},
     "output_type": "execute_result"
    }
   ],
   "source": [
    "# Check that the subsetting worked\n",
    "toc['State'].unique()"
   ]
  },
  {
   "cell_type": "markdown",
   "id": "284c8db0-db3e-4fa1-b517-7548692a932c",
   "metadata": {},
   "source": [
    "#### Create a column called County HPSA Status, where a hospital in a HPSA-designated county has the value Shortage Area, and a hospital in a county without a HPSA-designation has the value Non-Shortage Area."
   ]
  },
  {
   "cell_type": "code",
   "execution_count": 31,
   "id": "b73c40e6-6bd6-4f49-9025-40023257f5d2",
   "metadata": {},
   "outputs": [],
   "source": [
    "# Get HPSA-designated counties from shpsa dataframe\n",
    "hpsa_counties = pd.Series(shpsa['Common State County FIPS Code'].unique())"
   ]
  },
  {
   "cell_type": "code",
   "execution_count": 32,
   "id": "f38009b1-d9ff-4222-a6c8-63e2b6bbc67b",
   "metadata": {},
   "outputs": [
    {
     "data": {
      "text/plain": [
       "Non-Shortage Area    5781\n",
       "Name: County HPSA Status, dtype: int64"
      ]
     },
     "execution_count": 32,
     "metadata": {},
     "output_type": "execute_result"
    }
   ],
   "source": [
    "# Create a column County HPSA Status in the toc dataframe with default values of Non-Shortage Area\n",
    "toc['County HPSA Status'] = 'Non-Shortage Area'\n",
    "\n",
    "# Check that the column was added with the correct default values\n",
    "toc['County HPSA Status'].value_counts()"
   ]
  },
  {
   "cell_type": "code",
   "execution_count": 33,
   "id": "d15ffaad-cb76-47a1-803c-2527d27e42be",
   "metadata": {},
   "outputs": [],
   "source": [
    "# Update the County HPSA Status to Shortage Area for hospitals in shortage areas\n",
    "toc.loc[toc['Common State County FIPS Code'].isin(hpsa_counties), 'County HPSA Status'] = 'Shortage Area'"
   ]
  },
  {
   "cell_type": "code",
   "execution_count": 34,
   "id": "5ef1bd6a-4c94-418b-89f8-625eb7014ea3",
   "metadata": {},
   "outputs": [
    {
     "data": {
      "text/plain": [
       "Non-Shortage Area    3638\n",
       "Shortage Area        2143\n",
       "Name: County HPSA Status, dtype: int64"
      ]
     },
     "execution_count": 34,
     "metadata": {},
     "output_type": "execute_result"
    }
   ],
   "source": [
    "# Check the counts of Shortage Area vs. Non-Shortage area in the new column\n",
    "toc['County HPSA Status'].value_counts()"
   ]
  },
  {
   "cell_type": "markdown",
   "id": "42886539-a1b1-43b4-b216-e8be0c9f85f1",
   "metadata": {},
   "source": [
    "#### Left join `toc` with `shpsa` based on county FIPS code, and only join relevant columns from `shpsa`."
   ]
  },
  {
   "cell_type": "code",
   "execution_count": 35,
   "id": "11fcf48d-f0ce-4ae8-948d-e4c15d203861",
   "metadata": {},
   "outputs": [],
   "source": [
    "# Identify columns of interest from shpsa, then left join cms with shpsa based on county FIPS code\n",
    "join_cols = ['Common State County FIPS Code', 'Designation Type', 'HPSA Score', 'HPSA FTE',\n",
    "             'HPSA Designation Population', '% of Population Below 100% Poverty', 'HPSA Formal Ratio',\n",
    "             'Rural Status', 'HPSA Provider Ratio Goal', 'HPSA Shortage']\n",
    "\n",
    "toc = toc.merge(shpsa[join_cols], on = 'Common State County FIPS Code', how = 'left')"
   ]
  },
  {
   "cell_type": "markdown",
   "id": "07c4eea8-c664-487e-b909-962d3e25cfd8",
   "metadata": {},
   "source": [
    "#### If info exists in `ahrq` dataframe, add number of hospital beds and number of doctors for a specific hospital to the `toc` dataframe."
   ]
  },
  {
   "cell_type": "code",
   "execution_count": 36,
   "id": "63840bf0-a663-4184-9ba6-91073198f999",
   "metadata": {},
   "outputs": [],
   "source": [
    "# Import data from AHRQ into dataframe called ahrq\n",
    "ahrq = pd.read_excel('raw_data/chsp-compendium-2021.xlsx')"
   ]
  },
  {
   "cell_type": "code",
   "execution_count": 37,
   "id": "972003f9-7936-4381-a40a-bb5ce1e8587a",
   "metadata": {},
   "outputs": [
    {
     "data": {
      "text/plain": [
       "Index(['Year', 'Quarter', 'Facility ID', 'Facility Name', 'City', 'State',\n",
       "       'ZIP Code', 'County Name', 'Condition', 'Measure ID', 'Measure Name',\n",
       "       'Score', 'Sample', 'County', 'Common State County FIPS Code',\n",
       "       'Latitude', 'Longitude', 'Hospital Ownership', 'County HPSA Status',\n",
       "       'Designation Type', 'HPSA Score', 'HPSA FTE',\n",
       "       'HPSA Designation Population', '% of Population Below 100% Poverty',\n",
       "       'HPSA Formal Ratio', 'Rural Status', 'HPSA Provider Ratio Goal',\n",
       "       'HPSA Shortage'],\n",
       "      dtype='object')"
      ]
     },
     "execution_count": 37,
     "metadata": {},
     "output_type": "execute_result"
    }
   ],
   "source": [
    "toc.columns"
   ]
  },
  {
   "cell_type": "code",
   "execution_count": 38,
   "id": "c148e3f7-8dd4-4dfe-85f7-4cdfee8de547",
   "metadata": {},
   "outputs": [],
   "source": [
    "# Only keep rows from MS, AL, & LA\n",
    "ahrq = ahrq[ahrq['health_sys_state'].isin(['MS', 'AL', 'LA'])]"
   ]
  },
  {
   "cell_type": "code",
   "execution_count": 39,
   "id": "9a1fa6ff-01a7-4d68-9f17-29288110937e",
   "metadata": {},
   "outputs": [
    {
     "data": {
      "text/plain": [
       "array(['LA', 'MS', 'AL'], dtype=object)"
      ]
     },
     "execution_count": 39,
     "metadata": {},
     "output_type": "execute_result"
    }
   ],
   "source": [
    "# Check that subsetting worked\n",
    "ahrq['health_sys_state'].unique()"
   ]
  },
  {
   "cell_type": "code",
   "execution_count": 40,
   "id": "b0b489c7-8f47-4b09-a715-f630a0efc8fd",
   "metadata": {},
   "outputs": [],
   "source": [
    "# Create hospital mapping, where key is the Facility Name from toc, and value is the corresponding health_sys_name from ahrq\n",
    "# Mapping was validated by eye using Excel, checking that the was a match in health system city in AHRQ and CMS .csv files\n",
    "hosp_mapping = {\n",
    "    'DCH REGIONAL MEDICAL CENTER': 'DCH Health System',\n",
    "    'EAST ALABAMA MEDICAL CENTER': 'East Alabama Medical Center',\n",
    "    'HUNTSVILLE HOSPITAL': 'Huntsville Hospital Health System',\n",
    "    'MOBILE INFIRMARY MEDICAL CENTER': 'Infirmary Health System',\n",
    "    'SOUTHEAST HEALTH MEDICAL CENTER': 'Southeast Health',\n",
    "    'UAB CALLAHAN EYE HOSPITAL AUTHORITY': 'UAB Health System',\n",
    "    'UNIVERSITY OF SOUTH ALABAMA MEDICAL CENTER': 'University of South Alabama Hospitals',\n",
    "    'BATON ROUGE GENERAL MEDICAL CENTER': 'Baton Rouge General Health System',\n",
    "    'OUR LADY OF THE LAKE REGIONAL MEDICAL CENTER': 'Franciscan Missionaries of Our Lady Health System',\n",
    "    'UNIVERSITY MEDICAL CENTER NEW ORLEANS': 'LCMC Health System',\n",
    "    'TOURO INFIRMARY': 'LCMC Health System',\n",
    "    'NEW ORLEANS EAST HOSPITAL': 'LCMC Health System',\n",
    "    'LAKE CHARLES MEMORIAL HOSPITAL': 'Lake Charles Memorial Health System',\n",
    "    'NORTH OAKS MEDICAL CENTER, L L C': 'North Oaks Health System',\n",
    "    'OCHSNER CLINIC FOUNDATION': 'Ochsner Health System',\n",
    "    'OCHSNER MEDICAL CENTER': 'Ochsner Health System',\n",
    "    'OCHSNER MEDICAL CENTER - BATON ROUGE': 'Ochsner Health System',\n",
    "    'OCHSNER MEDICAL CENTER - NORTHSHORE, L L C': 'Ochsner Health System',\n",
    "    'OCHSNER MEDICAL CENTER KENNER': 'Ochsner Health System',\n",
    "    'OCHSNER LSU HEALTH MONROE': 'Ochsner Health System',\n",
    "    'OCHSNER LSU HEALTH SHREVEPORT': 'Ochsner Health System',\n",
    "    'OCHSNER ST MARY': 'Ochsner Health System',\n",
    "    'OCHSNER LAFAYETTE GENERAL MEDICAL CENTER': 'Ochsner Health System',\n",
    "    'OCHSNER UNIVERSITY HOSPITAL AND CLINICS': 'Ochsner Health System',\n",
    "    'OCHSNER AMERICAN LEGION HOSPITAL': 'Ochsner Health System',\n",
    "    'SLIDELL MEMORIAL HOSPITAL': 'Slidell Memorial Hospital',\n",
    "    'WILLIS KNIGHTON MEDICAL CENTER': 'Willis Knighton Health System',\n",
    "    'WILLIS KNIGHTON MEDICAL CENTER, INC': 'Willis Knighton Health System',\n",
    "    'ANDERSON REGIONAL MEDICAL CENTER': 'Anderson Regional Health System',\n",
    "    'ANDERSON REGIONAL MEDICAL CTR': 'Anderson Regional Health System',\n",
    "    'DELTA HEALTH-NORTHWEST REGIONAL': 'Delta Health System',\n",
    "    'DELTA HEALTH- THE MEDICAL CENTER': 'Delta Health System',\n",
    "    'DELTA HEALTH SYSTEM - THE MEDICAL CENTER': 'Delta Health System',\n",
    "    'DELTA HEALTH - HIGHLAND  HILLS': 'Delta Health System',\n",
    "    'FORREST GENERAL HOSPITAL': 'Forrest Health',\n",
    "    'MARION GENERAL HOSPITAL': 'Forrest Health',\n",
    "    'MEMORIAL HOSPITAL AT GULFPORT': 'Memorial Hospital at Gulfport',\n",
    "    'NORTH MISSISSIPPI MEDICAL CENTER': 'North Mississippi Health Services',\n",
    "    'NORTH MISSISSIPPI MEDICAL CENTER-WEST POINT': 'North Mississippi Health Services',\n",
    "    'OCHSNER RUSH HOSPITAL': 'Rush Health Systems',\n",
    "    'RUSH FOUNDATION HOSPITAL': 'Rush Health Systems',\n",
    "    'SINGING RIVER HEALTH SYSTEM': 'Singing River Health System',\n",
    "    'SINGING RIVER GULFPORT': 'Singing River Health System',\n",
    "    'SINGING RIVER HOSPITAL': 'Singing River Health System',\n",
    "    'UNIVERSITY OF MISSISSIPPI MEDICAL CENTER- GRENADA': 'The University of Mississippi Medical Center',\n",
    "    'UNIVERSITY OF MISSISSIPPI MED CENTER': 'The University of Mississippi Medical Center',\n",
    "    'SOUTH CENTRAL REG MED CTR': 'South Central Regional Medical Center Health System'\n",
    "}\n",
    "\n",
    "# Define columns in ahrq that I want to keep (keys), and map to final column name (values)\n",
    "ahrq_cols = {\n",
    "    'total_mds': 'Total MDs in System',\n",
    "    'prim_care_mds': 'Total Primary Care MDs in System',\n",
    "    'hosp_cnt': 'Total Hospitals in System',\n",
    "    'acutehosp_cnt': 'Total Acute Care Hospitals in System',\n",
    "    'sys_beds': 'Total Beds in System',\n",
    "    'sys_res': 'Total Residents in System'\n",
    "}"
   ]
  },
  {
   "cell_type": "markdown",
   "id": "0ebad97b-23f9-4a82-bfb7-ff063c253c72",
   "metadata": {},
   "source": [
    "#### Iterate through each `Facility Name` in `toc` dataframe, and append new columns from `ahrq` if there is a match in `hosp_mapping`."
   ]
  },
  {
   "cell_type": "code",
   "execution_count": 41,
   "id": "cdf31841-9fbc-4d9d-a5b7-9b3f9ad14fab",
   "metadata": {},
   "outputs": [],
   "source": [
    "for col in ahrq_cols.keys():\n",
    "    for i in toc.index:\n",
    "        facility = toc.loc[i, 'Facility Name']  # Accessing 'Facility Name' column in 'toc'\n",
    "        if facility in hosp_mapping:\n",
    "            matching_health_sys = ahrq.loc[ahrq['health_sys_name'] == hosp_mapping[facility], col]\n",
    "            toc.at[i, ahrq_cols[col]] = matching_health_sys.values[0] if not matching_health_sys.empty else None"
   ]
  },
  {
   "cell_type": "code",
   "execution_count": 42,
   "id": "01e1af34-27d2-4cda-a9ce-bde55122a073",
   "metadata": {},
   "outputs": [
    {
     "name": "stdout",
     "output_type": "stream",
     "text": [
      "<class 'pandas.core.frame.DataFrame'>\n",
      "Int64Index: 5781 entries, 0 to 5780\n",
      "Data columns (total 34 columns):\n",
      " #   Column                                Non-Null Count  Dtype  \n",
      "---  ------                                --------------  -----  \n",
      " 0   Year                                  5781 non-null   int64  \n",
      " 1   Quarter                               5781 non-null   object \n",
      " 2   Facility ID                           5781 non-null   object \n",
      " 3   Facility Name                         5781 non-null   object \n",
      " 4   City                                  5781 non-null   object \n",
      " 5   State                                 5781 non-null   object \n",
      " 6   ZIP Code                              5781 non-null   int64  \n",
      " 7   County Name                           5781 non-null   object \n",
      " 8   Condition                             5781 non-null   object \n",
      " 9   Measure ID                            5781 non-null   object \n",
      " 10  Measure Name                          5781 non-null   object \n",
      " 11  Score                                 5781 non-null   float64\n",
      " 12  Sample                                5781 non-null   object \n",
      " 13  County                                5781 non-null   object \n",
      " 14  Common State County FIPS Code         5781 non-null   object \n",
      " 15  Latitude                              5781 non-null   float64\n",
      " 16  Longitude                             5781 non-null   float64\n",
      " 17  Hospital Ownership                    5781 non-null   object \n",
      " 18  County HPSA Status                    5781 non-null   object \n",
      " 19  Designation Type                      2143 non-null   object \n",
      " 20  HPSA Score                            2143 non-null   float64\n",
      " 21  HPSA FTE                              2143 non-null   float64\n",
      " 22  HPSA Designation Population           2143 non-null   float64\n",
      " 23  % of Population Below 100% Poverty    2143 non-null   float64\n",
      " 24  HPSA Formal Ratio                     2108 non-null   object \n",
      " 25  Rural Status                          2143 non-null   object \n",
      " 26  HPSA Provider Ratio Goal              2143 non-null   object \n",
      " 27  HPSA Shortage                         2143 non-null   float64\n",
      " 28  Total MDs in System                   790 non-null    float64\n",
      " 29  Total Primary Care MDs in System      790 non-null    float64\n",
      " 30  Total Hospitals in System             790 non-null    float64\n",
      " 31  Total Acute Care Hospitals in System  790 non-null    float64\n",
      " 32  Total Beds in System                  790 non-null    float64\n",
      " 33  Total Residents in System             790 non-null    float64\n",
      "dtypes: float64(14), int64(2), object(18)\n",
      "memory usage: 1.7+ MB\n"
     ]
    }
   ],
   "source": [
    "# Get info for final toc dataframe\n",
    "toc.info()"
   ]
  },
  {
   "cell_type": "code",
   "execution_count": 44,
   "id": "112c353d-04b6-4641-a67a-4138925c2066",
   "metadata": {},
   "outputs": [],
   "source": [
    "# Export final toc dataframe (with only Mississippi, Alabama, & Louisiana data) to csv\n",
    "# toc.to_csv('cleaned_data/toc.csv', index = False)"
   ]
  }
 ],
 "metadata": {
  "kernelspec": {
   "display_name": "Python 3 (ipykernel)",
   "language": "python",
   "name": "python3"
  },
  "language_info": {
   "codemirror_mode": {
    "name": "ipython",
    "version": 3
   },
   "file_extension": ".py",
   "mimetype": "text/x-python",
   "name": "python",
   "nbconvert_exporter": "python",
   "pygments_lexer": "ipython3",
   "version": "3.10.9"
  }
 },
 "nbformat": 4,
 "nbformat_minor": 5
}
