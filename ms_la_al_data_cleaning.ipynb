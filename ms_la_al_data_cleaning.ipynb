{
 "cells": [
  {
   "cell_type": "markdown",
   "id": "cce97111-ee52-424e-ad5d-dd139844d22d",
   "metadata": {},
   "source": [
    "# Mississippi, Louisiana, & Alabama Health Professional Shortage Areas - Data Cleaning\n",
    "---"
   ]
  },
  {
   "cell_type": "code",
   "execution_count": 1,
   "id": "1ac27dba-dfac-4f75-b530-5a66d04e1b6f",
   "metadata": {},
   "outputs": [],
   "source": [
    "import pandas as pd\n",
    "from get_cleaned_hpsa import hpsa"
   ]
  },
  {
   "cell_type": "code",
   "execution_count": 2,
   "id": "53662a63-65ba-4911-867f-32e3018ec20a",
   "metadata": {},
   "outputs": [],
   "source": [
    "# Keep only the rows that are from Mississippi, Louisiana, or Alabama and store in shpsa dataframe (i.e. South HPSAs)\n",
    "top_three = ['Mississippi', 'Louisiana', 'Alabama']\n",
    "shpsa = hpsa[hpsa['Common State Name'].isin(top_three)]"
   ]
  },
  {
   "cell_type": "code",
   "execution_count": 3,
   "id": "ee5756b3-ebf1-4804-8e8b-ed40b85b5909",
   "metadata": {},
   "outputs": [
    {
     "name": "stdout",
     "output_type": "stream",
     "text": [
      "<class 'pandas.core.frame.DataFrame'>\n",
      "Int64Index: 139 entries, 7823 to 63646\n",
      "Data columns (total 22 columns):\n",
      " #   Column                                 Non-Null Count  Dtype         \n",
      "---  ------                                 --------------  -----         \n",
      " 0   HPSA Name                              139 non-null    object        \n",
      " 1   Designation Type                       139 non-null    object        \n",
      " 2   HPSA Score                             139 non-null    int64         \n",
      " 3   HPSA Status                            139 non-null    object        \n",
      " 4   HPSA Designation Date                  139 non-null    datetime64[ns]\n",
      " 5   HPSA Designation Last Update Date      139 non-null    datetime64[ns]\n",
      " 6   HPSA FTE                               139 non-null    float64       \n",
      " 7   HPSA Designation Population            139 non-null    float64       \n",
      " 8   % of Population Below 100% Poverty     139 non-null    float64       \n",
      " 9   HPSA Formal Ratio                      136 non-null    object        \n",
      " 10  Rural Status                           139 non-null    object        \n",
      " 11  Common County Name                     139 non-null    object        \n",
      " 12  Common Region Name                     139 non-null    object        \n",
      " 13  Common State Abbreviation              139 non-null    object        \n",
      " 14  Common State County FIPS Code          139 non-null    object        \n",
      " 15  Common State Name                      139 non-null    object        \n",
      " 16  County Equivalent Name                 139 non-null    object        \n",
      " 17  HPSA Estimated Served Population       139 non-null    float64       \n",
      " 18  HPSA Estimated Underserved Population  139 non-null    float64       \n",
      " 19  HPSA Provider Ratio Goal               139 non-null    object        \n",
      " 20  HPSA Shortage                          139 non-null    float64       \n",
      " 21  Region Alias                           139 non-null    object        \n",
      "dtypes: datetime64[ns](2), float64(6), int64(1), object(13)\n",
      "memory usage: 25.0+ KB\n"
     ]
    }
   ],
   "source": [
    "# Get info about subsetted dataframe\n",
    "shpsa.info()"
   ]
  },
  {
   "cell_type": "markdown",
   "id": "bbdf1ca1-242a-4d22-a9b2-4a2679a2d661",
   "metadata": {},
   "source": [
    "### Making sure that each row in `shpsa` represents a unique county in Mississippi, Louisiana, & Alabama."
   ]
  },
  {
   "cell_type": "code",
   "execution_count": 4,
   "id": "68c0369e-6023-430b-9363-4f6e5b8544aa",
   "metadata": {},
   "outputs": [
    {
     "data": {
      "text/plain": [
       "28101    2\n",
       "01111    2\n",
       "22087    2\n",
       "01133    2\n",
       "22119    2\n",
       "        ..\n",
       "28157    1\n",
       "28109    1\n",
       "28107    1\n",
       "28083    1\n",
       "01045    1\n",
       "Name: Common State County FIPS Code, Length: 130, dtype: int64"
      ]
     },
     "execution_count": 4,
     "metadata": {},
     "output_type": "execute_result"
    }
   ],
   "source": [
    "# Get the sample size for HPSA-designated counties (by county FIPS code)\n",
    "county_n = shpsa['Common State County FIPS Code'].value_counts()\n",
    "county_n"
   ]
  },
  {
   "cell_type": "markdown",
   "id": "790dc74f-e28e-4913-ab1b-049463044df8",
   "metadata": {},
   "source": [
    "#### It looks like there are some counties that have more than one row.  Let's investigate this."
   ]
  },
  {
   "cell_type": "code",
   "execution_count": 5,
   "id": "67d20d78-edf1-475a-9dde-6bf77707978d",
   "metadata": {},
   "outputs": [
    {
     "data": {
      "text/plain": [
       "28101    2\n",
       "01111    2\n",
       "22087    2\n",
       "01133    2\n",
       "22119    2\n",
       "22065    2\n",
       "01075    2\n",
       "01057    2\n",
       "22027    2\n",
       "Name: Common State County FIPS Code, dtype: int64"
      ]
     },
     "execution_count": 5,
     "metadata": {},
     "output_type": "execute_result"
    }
   ],
   "source": [
    "# Get the FIPS code of the counties that have more than one row in shpsa\n",
    "county_n[county_n > 1]"
   ]
  },
  {
   "cell_type": "markdown",
   "id": "447f3617-d6c7-4646-91f6-995cd8f25530",
   "metadata": {},
   "source": [
    "#### Investigate the first three counties in the `shpsa` dataframe."
   ]
  },
  {
   "cell_type": "code",
   "execution_count": 6,
   "id": "3de6d402-c961-4326-a673-a793a01d8a9d",
   "metadata": {},
   "outputs": [
    {
     "data": {
      "text/html": [
       "<div>\n",
       "<style scoped>\n",
       "    .dataframe tbody tr th:only-of-type {\n",
       "        vertical-align: middle;\n",
       "    }\n",
       "\n",
       "    .dataframe tbody tr th {\n",
       "        vertical-align: top;\n",
       "    }\n",
       "\n",
       "    .dataframe thead th {\n",
       "        text-align: right;\n",
       "    }\n",
       "</style>\n",
       "<table border=\"1\" class=\"dataframe\">\n",
       "  <thead>\n",
       "    <tr style=\"text-align: right;\">\n",
       "      <th></th>\n",
       "      <th>HPSA Name</th>\n",
       "      <th>Designation Type</th>\n",
       "      <th>HPSA Score</th>\n",
       "      <th>HPSA Status</th>\n",
       "      <th>HPSA Designation Date</th>\n",
       "      <th>HPSA Designation Last Update Date</th>\n",
       "      <th>HPSA FTE</th>\n",
       "      <th>HPSA Designation Population</th>\n",
       "      <th>% of Population Below 100% Poverty</th>\n",
       "      <th>HPSA Formal Ratio</th>\n",
       "      <th>...</th>\n",
       "      <th>Common Region Name</th>\n",
       "      <th>Common State Abbreviation</th>\n",
       "      <th>Common State County FIPS Code</th>\n",
       "      <th>Common State Name</th>\n",
       "      <th>County Equivalent Name</th>\n",
       "      <th>HPSA Estimated Served Population</th>\n",
       "      <th>HPSA Estimated Underserved Population</th>\n",
       "      <th>HPSA Provider Ratio Goal</th>\n",
       "      <th>HPSA Shortage</th>\n",
       "      <th>Region Alias</th>\n",
       "    </tr>\n",
       "  </thead>\n",
       "  <tbody>\n",
       "    <tr>\n",
       "      <th>7861</th>\n",
       "      <td>Newton County</td>\n",
       "      <td>High Needs Geographic HPSA</td>\n",
       "      <td>13</td>\n",
       "      <td>Designated</td>\n",
       "      <td>2022-04-15</td>\n",
       "      <td>2022-04-15</td>\n",
       "      <td>6.15</td>\n",
       "      <td>20702.0</td>\n",
       "      <td>25.6</td>\n",
       "      <td>3366:1</td>\n",
       "      <td>...</td>\n",
       "      <td>Region 4</td>\n",
       "      <td>MS</td>\n",
       "      <td>28101</td>\n",
       "      <td>Mississippi</td>\n",
       "      <td>Newton</td>\n",
       "      <td>18450.0</td>\n",
       "      <td>2252.0</td>\n",
       "      <td>3000:1</td>\n",
       "      <td>0.75</td>\n",
       "      <td>Southeast</td>\n",
       "    </tr>\n",
       "    <tr>\n",
       "      <th>31111</th>\n",
       "      <td>Newton County</td>\n",
       "      <td>Geographic HPSA</td>\n",
       "      <td>19</td>\n",
       "      <td>Proposed For Withdrawal</td>\n",
       "      <td>1978-06-30</td>\n",
       "      <td>2021-09-10</td>\n",
       "      <td>2.15</td>\n",
       "      <td>20971.0</td>\n",
       "      <td>23.3</td>\n",
       "      <td>9754:1</td>\n",
       "      <td>...</td>\n",
       "      <td>Region 4</td>\n",
       "      <td>MS</td>\n",
       "      <td>28101</td>\n",
       "      <td>Mississippi</td>\n",
       "      <td>Newton</td>\n",
       "      <td>7525.0</td>\n",
       "      <td>13446.0</td>\n",
       "      <td>3500:1</td>\n",
       "      <td>3.84</td>\n",
       "      <td>Southeast</td>\n",
       "    </tr>\n",
       "  </tbody>\n",
       "</table>\n",
       "<p>2 rows × 22 columns</p>\n",
       "</div>"
      ],
      "text/plain": [
       "           HPSA Name            Designation Type  HPSA Score  \\\n",
       "7861   Newton County  High Needs Geographic HPSA          13   \n",
       "31111  Newton County             Geographic HPSA          19   \n",
       "\n",
       "                   HPSA Status HPSA Designation Date  \\\n",
       "7861                Designated            2022-04-15   \n",
       "31111  Proposed For Withdrawal            1978-06-30   \n",
       "\n",
       "      HPSA Designation Last Update Date  HPSA FTE  \\\n",
       "7861                         2022-04-15      6.15   \n",
       "31111                        2021-09-10      2.15   \n",
       "\n",
       "       HPSA Designation Population  % of Population Below 100% Poverty  \\\n",
       "7861                       20702.0                                25.6   \n",
       "31111                      20971.0                                23.3   \n",
       "\n",
       "      HPSA Formal Ratio  ... Common Region Name Common State Abbreviation  \\\n",
       "7861             3366:1  ...           Region 4                        MS   \n",
       "31111            9754:1  ...           Region 4                        MS   \n",
       "\n",
       "      Common State County FIPS Code Common State Name County Equivalent Name  \\\n",
       "7861                          28101       Mississippi                 Newton   \n",
       "31111                         28101       Mississippi                 Newton   \n",
       "\n",
       "      HPSA Estimated Served Population HPSA Estimated Underserved Population  \\\n",
       "7861                           18450.0                                2252.0   \n",
       "31111                           7525.0                               13446.0   \n",
       "\n",
       "       HPSA Provider Ratio Goal  HPSA Shortage Region Alias  \n",
       "7861                     3000:1           0.75    Southeast  \n",
       "31111                    3500:1           3.84    Southeast  \n",
       "\n",
       "[2 rows x 22 columns]"
      ]
     },
     "execution_count": 6,
     "metadata": {},
     "output_type": "execute_result"
    }
   ],
   "source": [
    "shpsa[shpsa['Common State County FIPS Code'] == '28101']"
   ]
  },
  {
   "cell_type": "code",
   "execution_count": 7,
   "id": "35ae5bfe-d899-4877-ba88-7195fade57b4",
   "metadata": {},
   "outputs": [
    {
     "data": {
      "text/html": [
       "<div>\n",
       "<style scoped>\n",
       "    .dataframe tbody tr th:only-of-type {\n",
       "        vertical-align: middle;\n",
       "    }\n",
       "\n",
       "    .dataframe tbody tr th {\n",
       "        vertical-align: top;\n",
       "    }\n",
       "\n",
       "    .dataframe thead th {\n",
       "        text-align: right;\n",
       "    }\n",
       "</style>\n",
       "<table border=\"1\" class=\"dataframe\">\n",
       "  <thead>\n",
       "    <tr style=\"text-align: right;\">\n",
       "      <th></th>\n",
       "      <th>HPSA Name</th>\n",
       "      <th>Designation Type</th>\n",
       "      <th>HPSA Score</th>\n",
       "      <th>HPSA Status</th>\n",
       "      <th>HPSA Designation Date</th>\n",
       "      <th>HPSA Designation Last Update Date</th>\n",
       "      <th>HPSA FTE</th>\n",
       "      <th>HPSA Designation Population</th>\n",
       "      <th>% of Population Below 100% Poverty</th>\n",
       "      <th>HPSA Formal Ratio</th>\n",
       "      <th>...</th>\n",
       "      <th>Common Region Name</th>\n",
       "      <th>Common State Abbreviation</th>\n",
       "      <th>Common State County FIPS Code</th>\n",
       "      <th>Common State Name</th>\n",
       "      <th>County Equivalent Name</th>\n",
       "      <th>HPSA Estimated Served Population</th>\n",
       "      <th>HPSA Estimated Underserved Population</th>\n",
       "      <th>HPSA Provider Ratio Goal</th>\n",
       "      <th>HPSA Shortage</th>\n",
       "      <th>Region Alias</th>\n",
       "    </tr>\n",
       "  </thead>\n",
       "  <tbody>\n",
       "    <tr>\n",
       "      <th>61942</th>\n",
       "      <td>Randolph County</td>\n",
       "      <td>Geographic HPSA</td>\n",
       "      <td>13</td>\n",
       "      <td>Designated</td>\n",
       "      <td>2022-04-21</td>\n",
       "      <td>2022-04-21</td>\n",
       "      <td>3.800</td>\n",
       "      <td>22139.0</td>\n",
       "      <td>16.9</td>\n",
       "      <td>5826:1</td>\n",
       "      <td>...</td>\n",
       "      <td>Region 4</td>\n",
       "      <td>AL</td>\n",
       "      <td>01111</td>\n",
       "      <td>Alabama</td>\n",
       "      <td>Randolph</td>\n",
       "      <td>13300.0</td>\n",
       "      <td>8839.0</td>\n",
       "      <td>3500:1</td>\n",
       "      <td>2.530</td>\n",
       "      <td>Southeast</td>\n",
       "    </tr>\n",
       "    <tr>\n",
       "      <th>62017</th>\n",
       "      <td>Randolph County</td>\n",
       "      <td>High Needs Geographic HPSA</td>\n",
       "      <td>5</td>\n",
       "      <td>Proposed For Withdrawal</td>\n",
       "      <td>2018-08-02</td>\n",
       "      <td>2022-04-21</td>\n",
       "      <td>6.975</td>\n",
       "      <td>22139.0</td>\n",
       "      <td>16.9</td>\n",
       "      <td>3174:1</td>\n",
       "      <td>...</td>\n",
       "      <td>Region 4</td>\n",
       "      <td>AL</td>\n",
       "      <td>01111</td>\n",
       "      <td>Alabama</td>\n",
       "      <td>Randolph</td>\n",
       "      <td>20925.0</td>\n",
       "      <td>1214.0</td>\n",
       "      <td>3000:1</td>\n",
       "      <td>0.405</td>\n",
       "      <td>Southeast</td>\n",
       "    </tr>\n",
       "  </tbody>\n",
       "</table>\n",
       "<p>2 rows × 22 columns</p>\n",
       "</div>"
      ],
      "text/plain": [
       "             HPSA Name            Designation Type  HPSA Score  \\\n",
       "61942  Randolph County             Geographic HPSA          13   \n",
       "62017  Randolph County  High Needs Geographic HPSA           5   \n",
       "\n",
       "                   HPSA Status HPSA Designation Date  \\\n",
       "61942               Designated            2022-04-21   \n",
       "62017  Proposed For Withdrawal            2018-08-02   \n",
       "\n",
       "      HPSA Designation Last Update Date  HPSA FTE  \\\n",
       "61942                        2022-04-21     3.800   \n",
       "62017                        2022-04-21     6.975   \n",
       "\n",
       "       HPSA Designation Population  % of Population Below 100% Poverty  \\\n",
       "61942                      22139.0                                16.9   \n",
       "62017                      22139.0                                16.9   \n",
       "\n",
       "      HPSA Formal Ratio  ... Common Region Name Common State Abbreviation  \\\n",
       "61942            5826:1  ...           Region 4                        AL   \n",
       "62017            3174:1  ...           Region 4                        AL   \n",
       "\n",
       "      Common State County FIPS Code Common State Name County Equivalent Name  \\\n",
       "61942                         01111           Alabama               Randolph   \n",
       "62017                         01111           Alabama               Randolph   \n",
       "\n",
       "      HPSA Estimated Served Population HPSA Estimated Underserved Population  \\\n",
       "61942                          13300.0                                8839.0   \n",
       "62017                          20925.0                                1214.0   \n",
       "\n",
       "       HPSA Provider Ratio Goal  HPSA Shortage Region Alias  \n",
       "61942                    3500:1          2.530    Southeast  \n",
       "62017                    3000:1          0.405    Southeast  \n",
       "\n",
       "[2 rows x 22 columns]"
      ]
     },
     "execution_count": 7,
     "metadata": {},
     "output_type": "execute_result"
    }
   ],
   "source": [
    "shpsa[shpsa['Common State County FIPS Code'] == '01111']"
   ]
  },
  {
   "cell_type": "code",
   "execution_count": 8,
   "id": "f85f2052-0e22-4d82-9aa0-78dd0967c9cd",
   "metadata": {},
   "outputs": [
    {
     "data": {
      "text/html": [
       "<div>\n",
       "<style scoped>\n",
       "    .dataframe tbody tr th:only-of-type {\n",
       "        vertical-align: middle;\n",
       "    }\n",
       "\n",
       "    .dataframe tbody tr th {\n",
       "        vertical-align: top;\n",
       "    }\n",
       "\n",
       "    .dataframe thead th {\n",
       "        text-align: right;\n",
       "    }\n",
       "</style>\n",
       "<table border=\"1\" class=\"dataframe\">\n",
       "  <thead>\n",
       "    <tr style=\"text-align: right;\">\n",
       "      <th></th>\n",
       "      <th>HPSA Name</th>\n",
       "      <th>Designation Type</th>\n",
       "      <th>HPSA Score</th>\n",
       "      <th>HPSA Status</th>\n",
       "      <th>HPSA Designation Date</th>\n",
       "      <th>HPSA Designation Last Update Date</th>\n",
       "      <th>HPSA FTE</th>\n",
       "      <th>HPSA Designation Population</th>\n",
       "      <th>% of Population Below 100% Poverty</th>\n",
       "      <th>HPSA Formal Ratio</th>\n",
       "      <th>...</th>\n",
       "      <th>Common Region Name</th>\n",
       "      <th>Common State Abbreviation</th>\n",
       "      <th>Common State County FIPS Code</th>\n",
       "      <th>Common State Name</th>\n",
       "      <th>County Equivalent Name</th>\n",
       "      <th>HPSA Estimated Served Population</th>\n",
       "      <th>HPSA Estimated Underserved Population</th>\n",
       "      <th>HPSA Provider Ratio Goal</th>\n",
       "      <th>HPSA Shortage</th>\n",
       "      <th>Region Alias</th>\n",
       "    </tr>\n",
       "  </thead>\n",
       "  <tbody>\n",
       "    <tr>\n",
       "      <th>11911</th>\n",
       "      <td>St. Bernard Parish</td>\n",
       "      <td>Geographic HPSA</td>\n",
       "      <td>12</td>\n",
       "      <td>Proposed For Withdrawal</td>\n",
       "      <td>2017-11-24</td>\n",
       "      <td>2021-09-10</td>\n",
       "      <td>6.75</td>\n",
       "      <td>40719.0</td>\n",
       "      <td>17.1</td>\n",
       "      <td>6032:1</td>\n",
       "      <td>...</td>\n",
       "      <td>Region 6</td>\n",
       "      <td>LA</td>\n",
       "      <td>22087</td>\n",
       "      <td>Louisiana</td>\n",
       "      <td>St. Bernard</td>\n",
       "      <td>23625.0</td>\n",
       "      <td>17094.0</td>\n",
       "      <td>3500:1</td>\n",
       "      <td>4.88</td>\n",
       "      <td>South Central</td>\n",
       "    </tr>\n",
       "    <tr>\n",
       "      <th>55858</th>\n",
       "      <td>St. Bernard Parish</td>\n",
       "      <td>High Needs Geographic HPSA</td>\n",
       "      <td>16</td>\n",
       "      <td>Designated</td>\n",
       "      <td>2022-03-08</td>\n",
       "      <td>2022-03-08</td>\n",
       "      <td>4.15</td>\n",
       "      <td>45857.0</td>\n",
       "      <td>21.1</td>\n",
       "      <td>11050:1</td>\n",
       "      <td>...</td>\n",
       "      <td>Region 6</td>\n",
       "      <td>LA</td>\n",
       "      <td>22087</td>\n",
       "      <td>Louisiana</td>\n",
       "      <td>St. Bernard</td>\n",
       "      <td>12450.0</td>\n",
       "      <td>33407.0</td>\n",
       "      <td>3000:1</td>\n",
       "      <td>11.14</td>\n",
       "      <td>South Central</td>\n",
       "    </tr>\n",
       "  </tbody>\n",
       "</table>\n",
       "<p>2 rows × 22 columns</p>\n",
       "</div>"
      ],
      "text/plain": [
       "                HPSA Name            Designation Type  HPSA Score  \\\n",
       "11911  St. Bernard Parish             Geographic HPSA          12   \n",
       "55858  St. Bernard Parish  High Needs Geographic HPSA          16   \n",
       "\n",
       "                   HPSA Status HPSA Designation Date  \\\n",
       "11911  Proposed For Withdrawal            2017-11-24   \n",
       "55858               Designated            2022-03-08   \n",
       "\n",
       "      HPSA Designation Last Update Date  HPSA FTE  \\\n",
       "11911                        2021-09-10      6.75   \n",
       "55858                        2022-03-08      4.15   \n",
       "\n",
       "       HPSA Designation Population  % of Population Below 100% Poverty  \\\n",
       "11911                      40719.0                                17.1   \n",
       "55858                      45857.0                                21.1   \n",
       "\n",
       "      HPSA Formal Ratio  ... Common Region Name Common State Abbreviation  \\\n",
       "11911            6032:1  ...           Region 6                        LA   \n",
       "55858           11050:1  ...           Region 6                        LA   \n",
       "\n",
       "      Common State County FIPS Code Common State Name County Equivalent Name  \\\n",
       "11911                         22087         Louisiana            St. Bernard   \n",
       "55858                         22087         Louisiana            St. Bernard   \n",
       "\n",
       "      HPSA Estimated Served Population HPSA Estimated Underserved Population  \\\n",
       "11911                          23625.0                               17094.0   \n",
       "55858                          12450.0                               33407.0   \n",
       "\n",
       "       HPSA Provider Ratio Goal  HPSA Shortage   Region Alias  \n",
       "11911                    3500:1           4.88  South Central  \n",
       "55858                    3000:1          11.14  South Central  \n",
       "\n",
       "[2 rows x 22 columns]"
      ]
     },
     "execution_count": 8,
     "metadata": {},
     "output_type": "execute_result"
    }
   ],
   "source": [
    "shpsa[shpsa['Common State County FIPS Code'] == '22087']"
   ]
  },
  {
   "cell_type": "markdown",
   "id": "2e88d37c-b69d-49b2-b1aa-48c50bf1d5cb",
   "metadata": {},
   "source": [
    "#### It looks like the counties having two rows in `shpsa` have one row where their HPSA Status is Proposed For Withdrawal, and a second row where their HPSA Status is Designated (at a later date).  Let's confirm this."
   ]
  },
  {
   "cell_type": "code",
   "execution_count": 9,
   "id": "8b1154d0-31a3-40b2-8834-f1dacb7d1578",
   "metadata": {},
   "outputs": [
    {
     "data": {
      "text/plain": [
       "Index(['28101', '01111', '22087', '01133', '22119', '22065', '01075', '01057',\n",
       "       '22027'],\n",
       "      dtype='object')"
      ]
     },
     "execution_count": 9,
     "metadata": {},
     "output_type": "execute_result"
    }
   ],
   "source": [
    "# Get the FIPS codes of those counties with two rows in shpsa\n",
    "multiple_fips = county_n[county_n > 1].index\n",
    "multiple_fips"
   ]
  },
  {
   "cell_type": "code",
   "execution_count": 10,
   "id": "c4cdd004-7488-44f8-b16d-8a5b387361fc",
   "metadata": {},
   "outputs": [
    {
     "data": {
      "text/plain": [
       "True"
      ]
     },
     "execution_count": 10,
     "metadata": {},
     "output_type": "execute_result"
    }
   ],
   "source": [
    "# Iterate through each county, checking if the date that they were Designated is later than the date\n",
    "# they were Proposed For Withdrawal\n",
    "is_designated_at_later_date = 0\n",
    "\n",
    "for county in multiple_fips:\n",
    "    county_rows = shpsa[shpsa['Common State County FIPS Code'] == county]\n",
    "    proposed_withdrawal_row = county_rows[county_rows['HPSA Status'] == 'Proposed For Withdrawal']\n",
    "    designated_row = county_rows[county_rows['HPSA Status'] == 'Designated']\n",
    "    proposed_date = proposed_withdrawal_row['HPSA Designation Date'].iat[0]\n",
    "    designated_date = designated_row['HPSA Designation Date'].iat[0]\n",
    "    \n",
    "    if designated_date > proposed_date:\n",
    "        is_designated_at_later_date += 1\n",
    "\n",
    "# If the number of counties that were designated at a later date is equal to the number of counties in multiple_fips,\n",
    "# then YES, it is the case that all counties with multiple rows in shpsa just received a recent Designated status\n",
    "is_designated_at_later_date == len(multiple_fips)"
   ]
  },
  {
   "cell_type": "markdown",
   "id": "c5a6ffb4-1ef5-4f33-9681-30e4bee3139a",
   "metadata": {},
   "source": [
    "#### Since we've confirmed our hypothesis about the multiple rows, we can drop the Proposed For Withdrawal row for those counties with multiple rows in `shpsa`."
   ]
  },
  {
   "cell_type": "code",
   "execution_count": 11,
   "id": "1d06a64b-eb5d-405f-bdac-2fbf5337e151",
   "metadata": {},
   "outputs": [],
   "source": [
    "# Iterate through each county in multiple_fips, dropping the Proposed For Withdrawal row from shpsa\n",
    "for county in multiple_fips:\n",
    "    county_rows = shpsa[shpsa['Common State County FIPS Code'] == county]\n",
    "    proposed_withdrawal_row = county_rows[county_rows['HPSA Status'] == 'Proposed For Withdrawal']\n",
    "    shpsa = shpsa.drop(index = proposed_withdrawal_row.index)"
   ]
  },
  {
   "cell_type": "markdown",
   "id": "bff279c8-b1b5-47e6-a64c-b594e0fb1e7f",
   "metadata": {},
   "source": [
    "#### Do a final check to see that each row in `shpsa` represents a unique county."
   ]
  },
  {
   "cell_type": "code",
   "execution_count": 12,
   "id": "2808bf6d-d39b-417f-90a2-638e35c89dc1",
   "metadata": {},
   "outputs": [
    {
     "data": {
      "text/plain": [
       "Series([], Name: Common State County FIPS Code, dtype: int64)"
      ]
     },
     "execution_count": 12,
     "metadata": {},
     "output_type": "execute_result"
    }
   ],
   "source": [
    "# Get the sample size for HPSA-designated counties (by county FIPS code)\n",
    "county_n = shpsa['Common State County FIPS Code'].value_counts()\n",
    "\n",
    "# Check for any counties that have more than one row\n",
    "county_n[county_n > 1]"
   ]
  },
  {
   "cell_type": "code",
   "execution_count": 13,
   "id": "023913e9-5d3d-4d10-940e-3f9858180135",
   "metadata": {},
   "outputs": [
    {
     "name": "stdout",
     "output_type": "stream",
     "text": [
      "<class 'pandas.core.frame.DataFrame'>\n",
      "Int64Index: 130 entries, 7823 to 63646\n",
      "Data columns (total 22 columns):\n",
      " #   Column                                 Non-Null Count  Dtype         \n",
      "---  ------                                 --------------  -----         \n",
      " 0   HPSA Name                              130 non-null    object        \n",
      " 1   Designation Type                       130 non-null    object        \n",
      " 2   HPSA Score                             130 non-null    int64         \n",
      " 3   HPSA Status                            130 non-null    object        \n",
      " 4   HPSA Designation Date                  130 non-null    datetime64[ns]\n",
      " 5   HPSA Designation Last Update Date      130 non-null    datetime64[ns]\n",
      " 6   HPSA FTE                               130 non-null    float64       \n",
      " 7   HPSA Designation Population            130 non-null    float64       \n",
      " 8   % of Population Below 100% Poverty     130 non-null    float64       \n",
      " 9   HPSA Formal Ratio                      127 non-null    object        \n",
      " 10  Rural Status                           130 non-null    object        \n",
      " 11  Common County Name                     130 non-null    object        \n",
      " 12  Common Region Name                     130 non-null    object        \n",
      " 13  Common State Abbreviation              130 non-null    object        \n",
      " 14  Common State County FIPS Code          130 non-null    object        \n",
      " 15  Common State Name                      130 non-null    object        \n",
      " 16  County Equivalent Name                 130 non-null    object        \n",
      " 17  HPSA Estimated Served Population       130 non-null    float64       \n",
      " 18  HPSA Estimated Underserved Population  130 non-null    float64       \n",
      " 19  HPSA Provider Ratio Goal               130 non-null    object        \n",
      " 20  HPSA Shortage                          130 non-null    float64       \n",
      " 21  Region Alias                           130 non-null    object        \n",
      "dtypes: datetime64[ns](2), float64(6), int64(1), object(13)\n",
      "memory usage: 23.4+ KB\n"
     ]
    }
   ],
   "source": [
    "# Get info for final cleaned dataframe\n",
    "shpsa.info()"
   ]
  }
 ],
 "metadata": {
  "kernelspec": {
   "display_name": "Python 3 (ipykernel)",
   "language": "python",
   "name": "python3"
  },
  "language_info": {
   "codemirror_mode": {
    "name": "ipython",
    "version": 3
   },
   "file_extension": ".py",
   "mimetype": "text/x-python",
   "name": "python",
   "nbconvert_exporter": "python",
   "pygments_lexer": "ipython3",
   "version": "3.10.9"
  }
 },
 "nbformat": 4,
 "nbformat_minor": 5
}
