{
 "cells": [
  {
   "cell_type": "markdown",
   "id": "4c9542e3-476d-408b-8238-d79defa966b5",
   "metadata": {},
   "source": [
    "# Health Professional Shortage Areas - Exploratory Data Analysis\n",
    "---\n",
    "## Goal:\n",
    "### Which states/counties in the U.S. are facing the most severe shortages of healthcare professionals?\n",
    "---"
   ]
  },
  {
   "cell_type": "code",
   "execution_count": 1,
   "id": "19e44ea1-d9c7-4241-ad05-652b58633ffe",
   "metadata": {},
   "outputs": [],
   "source": [
    "import pandas as pd\n",
    "import seaborn as sns"
   ]
  },
  {
   "cell_type": "code",
   "execution_count": 2,
   "id": "b93cbe3d-5b78-4932-a6c8-c54d2a9ee054",
   "metadata": {},
   "outputs": [],
   "source": [
    "# Import data as df\n",
    "df = pd.read_excel('raw_data/BCD_HPSA_FCT_DET_PC.xlsx')\n",
    "\n",
    "# Make copy of df called hpsa; hpsa will be transformed\n",
    "hpsa = df.copy()"
   ]
  },
  {
   "cell_type": "markdown",
   "id": "6efe111f-d8d8-4e15-88da-2973ee649dbd",
   "metadata": {},
   "source": [
    "#### Subset data to only geographic areas, only single counties, having a HPSA status of Designated or Proposed for Withdrawal"
   ]
  },
  {
   "cell_type": "code",
   "execution_count": 56,
   "id": "6434bf25-aa09-455e-abe6-f785b85e48f9",
   "metadata": {},
   "outputs": [
    {
     "data": {
      "text/plain": [
       "Geographic Population                                          27604\n",
       "Low Income Population HPSA                                     22282\n",
       "Medicaid Eligible Population HPSA                               5745\n",
       "Low Income Migrant Farmworker Population HPSA                    669\n",
       "Other Population HPSA                                            557\n",
       "Low Income Homeless Population HPSA                              520\n",
       "Low Income Homeless Migrant Farmworker Population HPSA           450\n",
       "Homeless Population HPSA                                         443\n",
       "Native American Population HPSA                                  327\n",
       "Migrant Seasonal Worker Population HPSA                          180\n",
       "Low Income Migrant Seasonal Worker Population HPSA                54\n",
       "Low Income Homeless Migrant Seasonal Worker Population HPSA       44\n",
       "Migrant Farmworker Population HPSA                                24\n",
       "Name: HPSA Population Type, dtype: int64"
      ]
     },
     "execution_count": 56,
     "metadata": {},
     "output_type": "execute_result"
    }
   ],
   "source": [
    "# I only want to focus on HPSAs in geographic areas (NOT populations groups or facilities)\n",
    "# Get info about the type of HPSAs in this dataset\n",
    "hpsa['HPSA Population Type'].value_counts()"
   ]
  },
  {
   "cell_type": "code",
   "execution_count": 58,
   "id": "1f3b4649-8fc8-4372-993c-68c1d0f4521d",
   "metadata": {},
   "outputs": [
    {
     "data": {
      "text/plain": [
       "(27604, 65)"
      ]
     },
     "execution_count": 58,
     "metadata": {},
     "output_type": "execute_result"
    }
   ],
   "source": [
    "# Keep only the rows that are of the Geographic Population type\n",
    "hpsa = hpsa[hpsa['HPSA Population Type'] == 'Geographic Population']\n",
    "\n",
    "# Check shape to make sure indexing worked\n",
    "hpsa.shape"
   ]
  },
  {
   "cell_type": "code",
   "execution_count": 64,
   "id": "c6a4e946-62f5-4e74-8eb2-4ecfb8b1c764",
   "metadata": {},
   "outputs": [
    {
     "data": {
      "text/plain": [
       "Withdrawn                  20950\n",
       "Designated                  3646\n",
       "Proposed For Withdrawal     3008\n",
       "Name: HPSA Status, dtype: int64"
      ]
     },
     "execution_count": 64,
     "metadata": {},
     "output_type": "execute_result"
    }
   ],
   "source": [
    "# I only want to focus on currently HPSAs that have NOT been withdrawn\n",
    "# Get info about current HPSA status\n",
    "hpsa['HPSA Status'].value_counts()"
   ]
  },
  {
   "cell_type": "code",
   "execution_count": 65,
   "id": "16218300-ae7b-4849-8b76-e8200c311d98",
   "metadata": {},
   "outputs": [
    {
     "data": {
      "text/plain": [
       "(6654, 65)"
      ]
     },
     "execution_count": 65,
     "metadata": {},
     "output_type": "execute_result"
    }
   ],
   "source": [
    "# Keep only the rows that have a status of Designated or Proposed For Withdrawal\n",
    "hpsa = hpsa[hpsa['HPSA Status'] != 'Withdrawn']\n",
    "\n",
    "# Check shape to make sure indexing worked\n",
    "hpsa.shape"
   ]
  },
  {
   "cell_type": "code",
   "execution_count": 67,
   "id": "08731041-daba-431a-b8a4-1c3ec5fc82d0",
   "metadata": {},
   "outputs": [
    {
     "data": {
      "text/plain": [
       "Census Tract          3891\n",
       "County Subdivision    1651\n",
       "Single County         1112\n",
       "Name: HPSA Component Type Description, dtype: int64"
      ]
     },
     "execution_count": 67,
     "metadata": {},
     "output_type": "execute_result"
    }
   ],
   "source": [
    "# I only want to focus on single counties\n",
    "# Get info about component type (i.e. type of geography)\n",
    "hpsa['HPSA Component Type Description'].value_counts()"
   ]
  },
  {
   "cell_type": "code",
   "execution_count": 69,
   "id": "1aec19e5-3ddb-416a-953e-dc9eba0fba86",
   "metadata": {},
   "outputs": [
    {
     "data": {
      "text/plain": [
       "(1112, 65)"
      ]
     },
     "execution_count": 69,
     "metadata": {},
     "output_type": "execute_result"
    }
   ],
   "source": [
    "# Keep only the rows that have a component type of Single County\n",
    "hpsa = hpsa[hpsa['HPSA Component Type Description'] == 'Single County']\n",
    "\n",
    "# Check shape to make sure indexing worked\n",
    "hpsa.shape"
   ]
  },
  {
   "cell_type": "code",
   "execution_count": 104,
   "id": "a732ce4e-45d1-4e0e-8671-3493f4f3eaf8",
   "metadata": {},
   "outputs": [
    {
     "data": {
      "text/plain": [
       "array(['Texas', 'Ohio', 'Wisconsin', 'Washington', 'South Dakota',\n",
       "       'Oklahoma', 'North Carolina', 'Federated States of Micronesia',\n",
       "       'American Samoa', 'Wyoming', 'Virginia', 'Utah', 'Pennsylvania',\n",
       "       'Nevada', 'Mississippi', 'Minnesota', 'Michigan', 'Kansas', 'Iowa',\n",
       "       'Indiana', 'Missouri', 'Louisiana', 'New York', 'Georgia',\n",
       "       'Colorado', 'Alaska', 'Illinois', 'Hawaii', 'Arkansas', 'Florida',\n",
       "       'Northern Mariana Islands', 'Tennessee', 'Oregon', 'North Dakota',\n",
       "       'West Virginia', 'South Carolina', 'Montana', 'New Mexico',\n",
       "       'Nebraska', 'Kentucky', 'Massachusetts', 'California', 'Alabama',\n",
       "       'Idaho', 'Maryland', 'U.S. Virgin Islands'], dtype=object)"
      ]
     },
     "execution_count": 104,
     "metadata": {},
     "output_type": "execute_result"
    }
   ],
   "source": [
    "# Check what states are represented\n",
    "hpsa['Common State Name'].unique()"
   ]
  },
  {
   "cell_type": "code",
   "execution_count": 108,
   "id": "83e1cac2-7a64-4745-a454-107fccdbcd64",
   "metadata": {},
   "outputs": [
    {
     "data": {
      "text/plain": [
       "array(['Texas', 'Ohio', 'Wisconsin', 'Washington', 'South Dakota',\n",
       "       'Oklahoma', 'North Carolina', 'Wyoming', 'Virginia', 'Utah',\n",
       "       'Pennsylvania', 'Nevada', 'Mississippi', 'Minnesota', 'Michigan',\n",
       "       'Kansas', 'Iowa', 'Indiana', 'Missouri', 'Louisiana', 'New York',\n",
       "       'Georgia', 'Colorado', 'Alaska', 'Illinois', 'Hawaii', 'Arkansas',\n",
       "       'Florida', 'Tennessee', 'Oregon', 'North Dakota', 'West Virginia',\n",
       "       'South Carolina', 'Montana', 'New Mexico', 'Nebraska', 'Kentucky',\n",
       "       'Massachusetts', 'California', 'Alabama', 'Idaho', 'Maryland'],\n",
       "      dtype=object)"
      ]
     },
     "execution_count": 108,
     "metadata": {},
     "output_type": "execute_result"
    }
   ],
   "source": [
    "# Exclude rows that are NOT the 50 US states (i.e. exclude US territories & insular areas)\n",
    "excluded = ['Federated States of Micronesia', 'American Samoa', 'Northern Mariana Islands', 'U.S. Virgin Islands']\n",
    "\n",
    "hpsa = hpsa[~hpsa['Common State Name'].isin(excluded)]\n",
    "\n",
    "# Check states again to make sure indexing worked\n",
    "hpsa['Common State Name'].unique()"
   ]
  },
  {
   "cell_type": "code",
   "execution_count": 109,
   "id": "389d13da-c0e0-4ef6-9979-a5f8fefc6a91",
   "metadata": {},
   "outputs": [
    {
     "data": {
      "text/plain": [
       "Washington County    9\n",
       "Lincoln County       8\n",
       "Franklin County      7\n",
       "Clay County          7\n",
       "Morgan County        7\n",
       "                    ..\n",
       "LaMoure County       1\n",
       "Wirt County          1\n",
       "Hampshire County     1\n",
       "Wyoming County       1\n",
       "Colusa County        1\n",
       "Name: HPSA Name, Length: 754, dtype: int64"
      ]
     },
     "execution_count": 109,
     "metadata": {},
     "output_type": "execute_result"
    }
   ],
   "source": [
    "# Check the counties\n",
    "hpsa['HPSA Name'].value_counts()"
   ]
  },
  {
   "cell_type": "code",
   "execution_count": 93,
   "id": "191262cc-00c6-49d4-ae87-2ce8e3243ed4",
   "metadata": {},
   "outputs": [
    {
     "data": {
      "text/html": [
       "<div>\n",
       "<style scoped>\n",
       "    .dataframe tbody tr th:only-of-type {\n",
       "        vertical-align: middle;\n",
       "    }\n",
       "\n",
       "    .dataframe tbody tr th {\n",
       "        vertical-align: top;\n",
       "    }\n",
       "\n",
       "    .dataframe thead th {\n",
       "        text-align: right;\n",
       "    }\n",
       "</style>\n",
       "<table border=\"1\" class=\"dataframe\">\n",
       "  <thead>\n",
       "    <tr style=\"text-align: right;\">\n",
       "      <th></th>\n",
       "      <th>HPSA Name</th>\n",
       "      <th>HPSA ID</th>\n",
       "      <th>Designation Type</th>\n",
       "      <th>HPSA Discipline Class</th>\n",
       "      <th>HPSA Score</th>\n",
       "      <th>PC MCTA Score</th>\n",
       "      <th>Primary State Abbreviation</th>\n",
       "      <th>HPSA Status</th>\n",
       "      <th>HPSA Designation Date</th>\n",
       "      <th>HPSA Designation Last Update Date</th>\n",
       "      <th>...</th>\n",
       "      <th>Provider Type</th>\n",
       "      <th>Rural Status Code</th>\n",
       "      <th>State Abbreviation</th>\n",
       "      <th>State and County Federal Information Processing Standard Code</th>\n",
       "      <th>State FIPS Code</th>\n",
       "      <th>State Name</th>\n",
       "      <th>U.S. - Mexico Border 100 Kilometer Indicator</th>\n",
       "      <th>U.S. - Mexico Border County Indicator</th>\n",
       "      <th>Data Warehouse Record Create Date</th>\n",
       "      <th>Data Warehouse Record Create Date Text</th>\n",
       "    </tr>\n",
       "  </thead>\n",
       "  <tbody>\n",
       "    <tr>\n",
       "      <th>16895</th>\n",
       "      <td>Washington County</td>\n",
       "      <td>1174775647</td>\n",
       "      <td>Geographic HPSA</td>\n",
       "      <td>Primary Care</td>\n",
       "      <td>12</td>\n",
       "      <td>12.0</td>\n",
       "      <td>IL</td>\n",
       "      <td>Designated</td>\n",
       "      <td>1990-06-15</td>\n",
       "      <td>2021-09-09</td>\n",
       "      <td>...</td>\n",
       "      <td>Not Applicable</td>\n",
       "      <td>R</td>\n",
       "      <td>IL</td>\n",
       "      <td>17189</td>\n",
       "      <td>17</td>\n",
       "      <td>Illinois</td>\n",
       "      <td>N</td>\n",
       "      <td>N</td>\n",
       "      <td>2023-09-12</td>\n",
       "      <td>2023/09/12</td>\n",
       "    </tr>\n",
       "    <tr>\n",
       "      <th>17773</th>\n",
       "      <td>Washington County</td>\n",
       "      <td>1183826548</td>\n",
       "      <td>Geographic HPSA</td>\n",
       "      <td>Primary Care</td>\n",
       "      <td>9</td>\n",
       "      <td>15.0</td>\n",
       "      <td>IN</td>\n",
       "      <td>Designated</td>\n",
       "      <td>2022-03-14</td>\n",
       "      <td>2022-03-14</td>\n",
       "      <td>...</td>\n",
       "      <td>Not Applicable</td>\n",
       "      <td>R</td>\n",
       "      <td>IN</td>\n",
       "      <td>18175</td>\n",
       "      <td>18</td>\n",
       "      <td>Indiana</td>\n",
       "      <td>N</td>\n",
       "      <td>N</td>\n",
       "      <td>2023-09-12</td>\n",
       "      <td>2023/09/12</td>\n",
       "    </tr>\n",
       "    <tr>\n",
       "      <th>19877</th>\n",
       "      <td>Washington County</td>\n",
       "      <td>1124013273</td>\n",
       "      <td>High Needs Geographic HPSA</td>\n",
       "      <td>Primary Care</td>\n",
       "      <td>13</td>\n",
       "      <td>21.0</td>\n",
       "      <td>FL</td>\n",
       "      <td>Designated</td>\n",
       "      <td>2018-10-25</td>\n",
       "      <td>2021-09-10</td>\n",
       "      <td>...</td>\n",
       "      <td>Not Applicable</td>\n",
       "      <td>R</td>\n",
       "      <td>FL</td>\n",
       "      <td>12133</td>\n",
       "      <td>12</td>\n",
       "      <td>Florida</td>\n",
       "      <td>N</td>\n",
       "      <td>N</td>\n",
       "      <td>2023-09-12</td>\n",
       "      <td>2023/09/12</td>\n",
       "    </tr>\n",
       "    <tr>\n",
       "      <th>31124</th>\n",
       "      <td>Washington County</td>\n",
       "      <td>1284537078</td>\n",
       "      <td>High Needs Geographic HPSA</td>\n",
       "      <td>Primary Care</td>\n",
       "      <td>21</td>\n",
       "      <td>NaN</td>\n",
       "      <td>MS</td>\n",
       "      <td>Proposed For Withdrawal</td>\n",
       "      <td>1980-01-17</td>\n",
       "      <td>2021-09-10</td>\n",
       "      <td>...</td>\n",
       "      <td>Not Applicable</td>\n",
       "      <td>R</td>\n",
       "      <td>MS</td>\n",
       "      <td>28151</td>\n",
       "      <td>28</td>\n",
       "      <td>Mississippi</td>\n",
       "      <td>N</td>\n",
       "      <td>N</td>\n",
       "      <td>2023-09-12</td>\n",
       "      <td>2023/09/12</td>\n",
       "    </tr>\n",
       "    <tr>\n",
       "      <th>34361</th>\n",
       "      <td>Washington County</td>\n",
       "      <td>1211849850</td>\n",
       "      <td>Geographic HPSA</td>\n",
       "      <td>Primary Care</td>\n",
       "      <td>11</td>\n",
       "      <td>12.0</td>\n",
       "      <td>KY</td>\n",
       "      <td>Designated</td>\n",
       "      <td>2022-02-18</td>\n",
       "      <td>2022-02-18</td>\n",
       "      <td>...</td>\n",
       "      <td>Not Applicable</td>\n",
       "      <td>R</td>\n",
       "      <td>KY</td>\n",
       "      <td>21229</td>\n",
       "      <td>21</td>\n",
       "      <td>Kentucky</td>\n",
       "      <td>N</td>\n",
       "      <td>N</td>\n",
       "      <td>2023-09-12</td>\n",
       "      <td>2023/09/12</td>\n",
       "    </tr>\n",
       "    <tr>\n",
       "      <th>39527</th>\n",
       "      <td>Washington County</td>\n",
       "      <td>1086860930</td>\n",
       "      <td>Geographic HPSA</td>\n",
       "      <td>Primary Care</td>\n",
       "      <td>16</td>\n",
       "      <td>14.0</td>\n",
       "      <td>CO</td>\n",
       "      <td>Designated</td>\n",
       "      <td>1979-07-10</td>\n",
       "      <td>2021-09-10</td>\n",
       "      <td>...</td>\n",
       "      <td>Not Applicable</td>\n",
       "      <td>R</td>\n",
       "      <td>CO</td>\n",
       "      <td>08121</td>\n",
       "      <td>8</td>\n",
       "      <td>Colorado</td>\n",
       "      <td>N</td>\n",
       "      <td>N</td>\n",
       "      <td>2023-09-12</td>\n",
       "      <td>2023/09/12</td>\n",
       "    </tr>\n",
       "    <tr>\n",
       "      <th>51041</th>\n",
       "      <td>Washington County</td>\n",
       "      <td>1371382160</td>\n",
       "      <td>High Needs Geographic HPSA</td>\n",
       "      <td>Primary Care</td>\n",
       "      <td>18</td>\n",
       "      <td>21.0</td>\n",
       "      <td>NC</td>\n",
       "      <td>Designated</td>\n",
       "      <td>1980-01-22</td>\n",
       "      <td>2021-09-08</td>\n",
       "      <td>...</td>\n",
       "      <td>Not Applicable</td>\n",
       "      <td>R</td>\n",
       "      <td>NC</td>\n",
       "      <td>37187</td>\n",
       "      <td>37</td>\n",
       "      <td>North Carolina</td>\n",
       "      <td>N</td>\n",
       "      <td>N</td>\n",
       "      <td>2023-09-12</td>\n",
       "      <td>2023/09/12</td>\n",
       "    </tr>\n",
       "    <tr>\n",
       "      <th>59508</th>\n",
       "      <td>Washington County</td>\n",
       "      <td>1219979489</td>\n",
       "      <td>Geographic HPSA</td>\n",
       "      <td>Primary Care</td>\n",
       "      <td>12</td>\n",
       "      <td>NaN</td>\n",
       "      <td>KY</td>\n",
       "      <td>Proposed For Withdrawal</td>\n",
       "      <td>2020-01-10</td>\n",
       "      <td>2021-09-10</td>\n",
       "      <td>...</td>\n",
       "      <td>Not Applicable</td>\n",
       "      <td>R</td>\n",
       "      <td>KY</td>\n",
       "      <td>21229</td>\n",
       "      <td>21</td>\n",
       "      <td>Kentucky</td>\n",
       "      <td>N</td>\n",
       "      <td>N</td>\n",
       "      <td>2023-09-12</td>\n",
       "      <td>2023/09/12</td>\n",
       "    </tr>\n",
       "    <tr>\n",
       "      <th>61965</th>\n",
       "      <td>Washington County</td>\n",
       "      <td>1013727029</td>\n",
       "      <td>Geographic HPSA</td>\n",
       "      <td>Primary Care</td>\n",
       "      <td>19</td>\n",
       "      <td>16.0</td>\n",
       "      <td>AL</td>\n",
       "      <td>Designated</td>\n",
       "      <td>2022-04-05</td>\n",
       "      <td>2022-04-05</td>\n",
       "      <td>...</td>\n",
       "      <td>Not Applicable</td>\n",
       "      <td>R</td>\n",
       "      <td>AL</td>\n",
       "      <td>01129</td>\n",
       "      <td>1</td>\n",
       "      <td>Alabama</td>\n",
       "      <td>N</td>\n",
       "      <td>N</td>\n",
       "      <td>2023-09-12</td>\n",
       "      <td>2023/09/12</td>\n",
       "    </tr>\n",
       "  </tbody>\n",
       "</table>\n",
       "<p>9 rows × 65 columns</p>\n",
       "</div>"
      ],
      "text/plain": [
       "               HPSA Name     HPSA ID            Designation Type  \\\n",
       "16895  Washington County  1174775647             Geographic HPSA   \n",
       "17773  Washington County  1183826548             Geographic HPSA   \n",
       "19877  Washington County  1124013273  High Needs Geographic HPSA   \n",
       "31124  Washington County  1284537078  High Needs Geographic HPSA   \n",
       "34361  Washington County  1211849850             Geographic HPSA   \n",
       "39527  Washington County  1086860930             Geographic HPSA   \n",
       "51041  Washington County  1371382160  High Needs Geographic HPSA   \n",
       "59508  Washington County  1219979489             Geographic HPSA   \n",
       "61965  Washington County  1013727029             Geographic HPSA   \n",
       "\n",
       "      HPSA Discipline Class  HPSA Score  PC MCTA Score  \\\n",
       "16895          Primary Care          12           12.0   \n",
       "17773          Primary Care           9           15.0   \n",
       "19877          Primary Care          13           21.0   \n",
       "31124          Primary Care          21            NaN   \n",
       "34361          Primary Care          11           12.0   \n",
       "39527          Primary Care          16           14.0   \n",
       "51041          Primary Care          18           21.0   \n",
       "59508          Primary Care          12            NaN   \n",
       "61965          Primary Care          19           16.0   \n",
       "\n",
       "      Primary State Abbreviation              HPSA Status  \\\n",
       "16895                         IL               Designated   \n",
       "17773                         IN               Designated   \n",
       "19877                         FL               Designated   \n",
       "31124                         MS  Proposed For Withdrawal   \n",
       "34361                         KY               Designated   \n",
       "39527                         CO               Designated   \n",
       "51041                         NC               Designated   \n",
       "59508                         KY  Proposed For Withdrawal   \n",
       "61965                         AL               Designated   \n",
       "\n",
       "      HPSA Designation Date HPSA Designation Last Update Date  ...  \\\n",
       "16895            1990-06-15                        2021-09-09  ...   \n",
       "17773            2022-03-14                        2022-03-14  ...   \n",
       "19877            2018-10-25                        2021-09-10  ...   \n",
       "31124            1980-01-17                        2021-09-10  ...   \n",
       "34361            2022-02-18                        2022-02-18  ...   \n",
       "39527            1979-07-10                        2021-09-10  ...   \n",
       "51041            1980-01-22                        2021-09-08  ...   \n",
       "59508            2020-01-10                        2021-09-10  ...   \n",
       "61965            2022-04-05                        2022-04-05  ...   \n",
       "\n",
       "        Provider Type Rural Status Code State Abbreviation  \\\n",
       "16895  Not Applicable                 R                 IL   \n",
       "17773  Not Applicable                 R                 IN   \n",
       "19877  Not Applicable                 R                 FL   \n",
       "31124  Not Applicable                 R                 MS   \n",
       "34361  Not Applicable                 R                 KY   \n",
       "39527  Not Applicable                 R                 CO   \n",
       "51041  Not Applicable                 R                 NC   \n",
       "59508  Not Applicable                 R                 KY   \n",
       "61965  Not Applicable                 R                 AL   \n",
       "\n",
       "      State and County Federal Information Processing Standard Code  \\\n",
       "16895                                              17189              \n",
       "17773                                              18175              \n",
       "19877                                              12133              \n",
       "31124                                              28151              \n",
       "34361                                              21229              \n",
       "39527                                              08121              \n",
       "51041                                              37187              \n",
       "59508                                              21229              \n",
       "61965                                              01129              \n",
       "\n",
       "       State FIPS Code      State Name  \\\n",
       "16895               17        Illinois   \n",
       "17773               18         Indiana   \n",
       "19877               12         Florida   \n",
       "31124               28     Mississippi   \n",
       "34361               21        Kentucky   \n",
       "39527                8        Colorado   \n",
       "51041               37  North Carolina   \n",
       "59508               21        Kentucky   \n",
       "61965                1         Alabama   \n",
       "\n",
       "       U.S. - Mexico Border 100 Kilometer Indicator  \\\n",
       "16895                                             N   \n",
       "17773                                             N   \n",
       "19877                                             N   \n",
       "31124                                             N   \n",
       "34361                                             N   \n",
       "39527                                             N   \n",
       "51041                                             N   \n",
       "59508                                             N   \n",
       "61965                                             N   \n",
       "\n",
       "      U.S. - Mexico Border County Indicator Data Warehouse Record Create Date  \\\n",
       "16895                                     N                        2023-09-12   \n",
       "17773                                     N                        2023-09-12   \n",
       "19877                                     N                        2023-09-12   \n",
       "31124                                     N                        2023-09-12   \n",
       "34361                                     N                        2023-09-12   \n",
       "39527                                     N                        2023-09-12   \n",
       "51041                                     N                        2023-09-12   \n",
       "59508                                     N                        2023-09-12   \n",
       "61965                                     N                        2023-09-12   \n",
       "\n",
       "      Data Warehouse Record Create Date Text  \n",
       "16895                             2023/09/12  \n",
       "17773                             2023/09/12  \n",
       "19877                             2023/09/12  \n",
       "31124                             2023/09/12  \n",
       "34361                             2023/09/12  \n",
       "39527                             2023/09/12  \n",
       "51041                             2023/09/12  \n",
       "59508                             2023/09/12  \n",
       "61965                             2023/09/12  \n",
       "\n",
       "[9 rows x 65 columns]"
      ]
     },
     "execution_count": 93,
     "metadata": {},
     "output_type": "execute_result"
    }
   ],
   "source": [
    "# Why are there more than one value count for some of the counties? (e.g. Washington County)\n",
    "# Check what the Washington County rows look like\n",
    "hpsa[hpsa['HPSA Name'] == 'Washington County']"
   ]
  },
  {
   "cell_type": "code",
   "execution_count": 113,
   "id": "b232b5cc-e90e-4f8d-81e2-5f1c08345788",
   "metadata": {},
   "outputs": [
    {
     "name": "stdout",
     "output_type": "stream",
     "text": [
      "<class 'pandas.core.frame.DataFrame'>\n",
      "Int64Index: 1047 entries, 346 to 64846\n",
      "Data columns (total 65 columns):\n",
      " #   Column                                                                    Non-Null Count  Dtype         \n",
      "---  ------                                                                    --------------  -----         \n",
      " 0   HPSA Name                                                                 1047 non-null   object        \n",
      " 1   HPSA ID                                                                   1047 non-null   object        \n",
      " 2   Designation Type                                                          1047 non-null   object        \n",
      " 3   HPSA Discipline Class                                                     1047 non-null   object        \n",
      " 4   HPSA Score                                                                1047 non-null   int64         \n",
      " 5   PC MCTA Score                                                             796 non-null    float64       \n",
      " 6   Primary State Abbreviation                                                1047 non-null   object        \n",
      " 7   HPSA Status                                                               1047 non-null   object        \n",
      " 8   HPSA Designation Date                                                     1047 non-null   datetime64[ns]\n",
      " 9   HPSA Designation Last Update Date                                         1047 non-null   datetime64[ns]\n",
      " 10  Metropolitan Indicator                                                    1047 non-null   object        \n",
      " 11  HPSA Geography Identification Number                                      1047 non-null   object        \n",
      " 12  HPSA Degree of Shortage                                                   1047 non-null   object        \n",
      " 13  Withdrawn Date                                                            0 non-null      datetime64[ns]\n",
      " 14  HPSA FTE                                                                  1047 non-null   float64       \n",
      " 15  HPSA Designation Population                                               1047 non-null   float64       \n",
      " 16  % of Population Below 100% Poverty                                        1047 non-null   float64       \n",
      " 17  HPSA Formal Ratio                                                         870 non-null    object        \n",
      " 18  HPSA Population Type                                                      1047 non-null   object        \n",
      " 19  Rural Status                                                              1047 non-null   object        \n",
      " 20  Longitude                                                                 0 non-null      float64       \n",
      " 21  Latitude                                                                  0 non-null      float64       \n",
      " 22  BHCMIS Organization Identification Number                                 0 non-null      object        \n",
      " 23  Break in Designation                                                      1047 non-null   object        \n",
      " 24  Common County Name                                                        1047 non-null   object        \n",
      " 25  Common Postal Code                                                        0 non-null      float64       \n",
      " 26  Common Region Name                                                        1047 non-null   object        \n",
      " 27  Common State Abbreviation                                                 1047 non-null   object        \n",
      " 28  Common State County FIPS Code                                             1047 non-null   object        \n",
      " 29  Common State FIPS Code                                                    1047 non-null   int64         \n",
      " 30  Common State Name                                                         1047 non-null   object        \n",
      " 31  County Equivalent Name                                                    1047 non-null   object        \n",
      " 32  County or County Equivalent Federal Information Processing Standard Code  1047 non-null   object        \n",
      " 33  Discipline Class Number                                                   1047 non-null   int64         \n",
      " 34  HPSA Address                                                              0 non-null      object        \n",
      " 35  HPSA City                                                                 0 non-null      object        \n",
      " 36  HPSA Component Name                                                       1047 non-null   object        \n",
      " 37  HPSA Component Source Identification Number                               0 non-null      object        \n",
      " 38  HPSA Component State Abbreviation                                         1047 non-null   object        \n",
      " 39  HPSA Component Type Code                                                  1047 non-null   object        \n",
      " 40  HPSA Component Type Description                                           1047 non-null   object        \n",
      " 41  HPSA Designation Population Type Description                              1047 non-null   object        \n",
      " 42  HPSA Estimated Served Population                                          1047 non-null   float64       \n",
      " 43  HPSA Estimated Underserved Population                                     1047 non-null   float64       \n",
      " 44  HPSA Metropolitan Indicator Code                                          1047 non-null   object        \n",
      " 45  HPSA Population Type Code                                                 1047 non-null   object        \n",
      " 46  HPSA Postal Code                                                          0 non-null      object        \n",
      " 47  HPSA Provider Ratio Goal                                                  1047 non-null   object        \n",
      " 48  HPSA Resident Civilian Population                                         0 non-null      float64       \n",
      " 49  HPSA Shortage                                                             1047 non-null   float64       \n",
      " 50  HPSA Status Code                                                          1047 non-null   object        \n",
      " 51  HPSA Type Code                                                            1047 non-null   object        \n",
      " 52  HPSA Withdrawn Date String                                                0 non-null      object        \n",
      " 53  Primary State FIPS Code                                                   1047 non-null   int64         \n",
      " 54  Primary State Name                                                        1047 non-null   object        \n",
      " 55  Provider Type                                                             1047 non-null   object        \n",
      " 56  Rural Status Code                                                         1047 non-null   object        \n",
      " 57  State Abbreviation                                                        1047 non-null   object        \n",
      " 58  State and County Federal Information Processing Standard Code             1047 non-null   object        \n",
      " 59  State FIPS Code                                                           1047 non-null   int64         \n",
      " 60  State Name                                                                1047 non-null   object        \n",
      " 61  U.S. - Mexico Border 100 Kilometer Indicator                              1047 non-null   object        \n",
      " 62  U.S. - Mexico Border County Indicator                                     1047 non-null   object        \n",
      " 63  Data Warehouse Record Create Date                                         1047 non-null   datetime64[ns]\n",
      " 64  Data Warehouse Record Create Date Text                                    1047 non-null   object        \n",
      "dtypes: datetime64[ns](4), float64(11), int64(5), object(45)\n",
      "memory usage: 539.9+ KB\n"
     ]
    }
   ],
   "source": [
    "# Looks like they are just counties in different states that share the same name, no problem!\n",
    "\n",
    "# Get info from the hpsa dataframe in its current state\n",
    "hpsa.info()"
   ]
  },
  {
   "cell_type": "code",
   "execution_count": null,
   "id": "25d02055-8246-4416-8cb2-74d956dbf43b",
   "metadata": {},
   "outputs": [],
   "source": []
  },
  {
   "cell_type": "markdown",
   "id": "f2b90ae9-97bc-4e4f-bc5c-d0fc5faf6e7c",
   "metadata": {},
   "source": [
    "#### Drop unnecessary columns"
   ]
  },
  {
   "cell_type": "code",
   "execution_count": null,
   "id": "3fd4ad13-0bd8-40c8-8ae2-0291d9f12a4c",
   "metadata": {},
   "outputs": [],
   "source": [
    "# Identify columns to be dropped\n",
    "cols_to_drop = ['HPSA Discipline Class', 'PC MCTA Score'"
   ]
  },
  {
   "cell_type": "code",
   "execution_count": 76,
   "id": "34959b36-87ee-494e-8870-7526976e32ed",
   "metadata": {},
   "outputs": [
    {
     "data": {
      "text/plain": [
       "array(['TX', 'OH', 'WI', 'WA', 'SD', 'OK', 'NC', 'MH', 'FM', 'AS', 'WY',\n",
       "       'VA', 'UT', 'PA', 'NV', 'MS', 'MN', 'MI', 'KS', 'IA', 'IN', 'MO',\n",
       "       'LA', 'NY', 'GA', 'CO', 'AK', 'IL', 'HI', 'AR', 'FL', 'PW', 'MP',\n",
       "       'TN', 'OR', 'ND', 'WV', 'SC', 'MT', 'NM', 'NE', 'KY', 'MA', 'CA',\n",
       "       'AL', 'ID', 'MD', 'VI'], dtype=object)"
      ]
     },
     "execution_count": 76,
     "metadata": {},
     "output_type": "execute_result"
    }
   ],
   "source": [
    "# Check which states are represented\n",
    "hpsa['Primary State Abbreviation'].unique()"
   ]
  }
 ],
 "metadata": {
  "kernelspec": {
   "display_name": "Python 3 (ipykernel)",
   "language": "python",
   "name": "python3"
  },
  "language_info": {
   "codemirror_mode": {
    "name": "ipython",
    "version": 3
   },
   "file_extension": ".py",
   "mimetype": "text/x-python",
   "name": "python",
   "nbconvert_exporter": "python",
   "pygments_lexer": "ipython3",
   "version": "3.10.9"
  }
 },
 "nbformat": 4,
 "nbformat_minor": 5
}
