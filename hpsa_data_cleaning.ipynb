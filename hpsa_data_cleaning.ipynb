{
 "cells": [
  {
   "cell_type": "markdown",
   "id": "4c9542e3-476d-408b-8238-d79defa966b5",
   "metadata": {},
   "source": [
    "# Health Professional Shortage Areas - Exploratory Data Analysis\n",
    "---\n",
    "## Goal:\n",
    "### Which states/counties in the U.S. are facing the most severe shortages of healthcare professionals?\n",
    "---"
   ]
  },
  {
   "cell_type": "code",
   "execution_count": 1,
   "id": "19e44ea1-d9c7-4241-ad05-652b58633ffe",
   "metadata": {},
   "outputs": [],
   "source": [
    "import pandas as pd\n",
    "import seaborn as sns"
   ]
  },
  {
   "cell_type": "code",
   "execution_count": 2,
   "id": "b93cbe3d-5b78-4932-a6c8-c54d2a9ee054",
   "metadata": {},
   "outputs": [],
   "source": [
    "# Import data as df\n",
    "df = pd.read_excel('raw_data/BCD_HPSA_FCT_DET_PC.xlsx')\n",
    "\n",
    "# Make copy of df called hpsa; hpsa will be transformed\n",
    "hpsa = df.copy()"
   ]
  },
  {
   "cell_type": "markdown",
   "id": "6efe111f-d8d8-4e15-88da-2973ee649dbd",
   "metadata": {},
   "source": [
    "#### Subset data to only geographic areas, only single counties, having a HPSA status of Designated or Proposed for Withdrawal"
   ]
  },
  {
   "cell_type": "code",
   "execution_count": 56,
   "id": "6434bf25-aa09-455e-abe6-f785b85e48f9",
   "metadata": {},
   "outputs": [
    {
     "data": {
      "text/plain": [
       "Geographic Population                                          27604\n",
       "Low Income Population HPSA                                     22282\n",
       "Medicaid Eligible Population HPSA                               5745\n",
       "Low Income Migrant Farmworker Population HPSA                    669\n",
       "Other Population HPSA                                            557\n",
       "Low Income Homeless Population HPSA                              520\n",
       "Low Income Homeless Migrant Farmworker Population HPSA           450\n",
       "Homeless Population HPSA                                         443\n",
       "Native American Population HPSA                                  327\n",
       "Migrant Seasonal Worker Population HPSA                          180\n",
       "Low Income Migrant Seasonal Worker Population HPSA                54\n",
       "Low Income Homeless Migrant Seasonal Worker Population HPSA       44\n",
       "Migrant Farmworker Population HPSA                                24\n",
       "Name: HPSA Population Type, dtype: int64"
      ]
     },
     "execution_count": 56,
     "metadata": {},
     "output_type": "execute_result"
    }
   ],
   "source": [
    "# I only want to focus on HPSAs in geographic areas (NOT populations groups or facilities)\n",
    "# Get info about the type of HPSAs in this dataset\n",
    "hpsa['HPSA Population Type'].value_counts()"
   ]
  },
  {
   "cell_type": "code",
   "execution_count": 58,
   "id": "1f3b4649-8fc8-4372-993c-68c1d0f4521d",
   "metadata": {},
   "outputs": [
    {
     "data": {
      "text/plain": [
       "(27604, 65)"
      ]
     },
     "execution_count": 58,
     "metadata": {},
     "output_type": "execute_result"
    }
   ],
   "source": [
    "# Keep only the rows that are of the Geographic Population type\n",
    "hpsa = hpsa[hpsa['HPSA Population Type'] == 'Geographic Population']\n",
    "\n",
    "# Check shape to make sure indexing worked\n",
    "hpsa.shape"
   ]
  },
  {
   "cell_type": "code",
   "execution_count": 64,
   "id": "c6a4e946-62f5-4e74-8eb2-4ecfb8b1c764",
   "metadata": {},
   "outputs": [
    {
     "data": {
      "text/plain": [
       "Withdrawn                  20950\n",
       "Designated                  3646\n",
       "Proposed For Withdrawal     3008\n",
       "Name: HPSA Status, dtype: int64"
      ]
     },
     "execution_count": 64,
     "metadata": {},
     "output_type": "execute_result"
    }
   ],
   "source": [
    "# I only want to focus on currently HPSAs that have NOT been withdrawn\n",
    "# Get info about current HPSA status\n",
    "hpsa['HPSA Status'].value_counts()"
   ]
  },
  {
   "cell_type": "code",
   "execution_count": 65,
   "id": "16218300-ae7b-4849-8b76-e8200c311d98",
   "metadata": {},
   "outputs": [
    {
     "data": {
      "text/plain": [
       "(6654, 65)"
      ]
     },
     "execution_count": 65,
     "metadata": {},
     "output_type": "execute_result"
    }
   ],
   "source": [
    "# Keep only the rows that have a status of Designated or Proposed For Withdrawal\n",
    "hpsa = hpsa[hpsa['HPSA Status'] != 'Withdrawn']\n",
    "\n",
    "# Check shape to make sure indexing worked\n",
    "hpsa.shape"
   ]
  },
  {
   "cell_type": "code",
   "execution_count": 67,
   "id": "08731041-daba-431a-b8a4-1c3ec5fc82d0",
   "metadata": {},
   "outputs": [
    {
     "data": {
      "text/plain": [
       "Census Tract          3891\n",
       "County Subdivision    1651\n",
       "Single County         1112\n",
       "Name: HPSA Component Type Description, dtype: int64"
      ]
     },
     "execution_count": 67,
     "metadata": {},
     "output_type": "execute_result"
    }
   ],
   "source": [
    "# I only want to focus on single counties\n",
    "# Get info about component type (i.e. type of geography)\n",
    "hpsa['HPSA Component Type Description'].value_counts()"
   ]
  },
  {
   "cell_type": "code",
   "execution_count": 69,
   "id": "1aec19e5-3ddb-416a-953e-dc9eba0fba86",
   "metadata": {},
   "outputs": [
    {
     "data": {
      "text/plain": [
       "(1112, 65)"
      ]
     },
     "execution_count": 69,
     "metadata": {},
     "output_type": "execute_result"
    }
   ],
   "source": [
    "# Keep only the rows that have a component type of Single County\n",
    "hpsa = hpsa[hpsa['HPSA Component Type Description'] == 'Single County']\n",
    "\n",
    "# Check shape to make sure indexing worked\n",
    "hpsa.shape"
   ]
  },
  {
   "cell_type": "markdown",
   "id": "f2b90ae9-97bc-4e4f-bc5c-d0fc5faf6e7c",
   "metadata": {},
   "source": [
    "#### Drop unnecessary columns"
   ]
  },
  {
   "cell_type": "code",
   "execution_count": null,
   "id": "3fd4ad13-0bd8-40c8-8ae2-0291d9f12a4c",
   "metadata": {},
   "outputs": [],
   "source": [
    "# Identify columns to be dropped\n",
    "cols_to_drop = ['HPSA Discipline Class', 'PC MCTA Score']"
   ]
  },
  {
   "cell_type": "code",
   "execution_count": 76,
   "id": "34959b36-87ee-494e-8870-7526976e32ed",
   "metadata": {},
   "outputs": [
    {
     "data": {
      "text/plain": [
       "array(['TX', 'OH', 'WI', 'WA', 'SD', 'OK', 'NC', 'MH', 'FM', 'AS', 'WY',\n",
       "       'VA', 'UT', 'PA', 'NV', 'MS', 'MN', 'MI', 'KS', 'IA', 'IN', 'MO',\n",
       "       'LA', 'NY', 'GA', 'CO', 'AK', 'IL', 'HI', 'AR', 'FL', 'PW', 'MP',\n",
       "       'TN', 'OR', 'ND', 'WV', 'SC', 'MT', 'NM', 'NE', 'KY', 'MA', 'CA',\n",
       "       'AL', 'ID', 'MD', 'VI'], dtype=object)"
      ]
     },
     "execution_count": 76,
     "metadata": {},
     "output_type": "execute_result"
    }
   ],
   "source": [
    "# Check which states are represented\n",
    "hpsa['Primary State Abbreviation'].unique()"
   ]
  }
 ],
 "metadata": {
  "kernelspec": {
   "display_name": "Python 3 (ipykernel)",
   "language": "python",
   "name": "python3"
  },
  "language_info": {
   "codemirror_mode": {
    "name": "ipython",
    "version": 3
   },
   "file_extension": ".py",
   "mimetype": "text/x-python",
   "name": "python",
   "nbconvert_exporter": "python",
   "pygments_lexer": "ipython3",
   "version": "3.10.9"
  }
 },
 "nbformat": 4,
 "nbformat_minor": 5
}
