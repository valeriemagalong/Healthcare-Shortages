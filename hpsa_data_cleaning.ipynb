{
 "cells": [
  {
   "cell_type": "markdown",
   "id": "4c9542e3-476d-408b-8238-d79defa966b5",
   "metadata": {},
   "source": [
    "# Health Professional Shortage Areas - Data Cleaning\n",
    "---"
   ]
  },
  {
   "cell_type": "code",
   "execution_count": 1,
   "id": "19e44ea1-d9c7-4241-ad05-652b58633ffe",
   "metadata": {},
   "outputs": [],
   "source": [
    "import pandas as pd"
   ]
  },
  {
   "cell_type": "code",
   "execution_count": 2,
   "id": "b93cbe3d-5b78-4932-a6c8-c54d2a9ee054",
   "metadata": {},
   "outputs": [],
   "source": [
    "# Import data as df\n",
    "df = pd.read_excel('raw_data/BCD_HPSA_FCT_DET_PC.xlsx')\n",
    "\n",
    "# Make copy of df called hpsa; hpsa will be transformed\n",
    "hpsa = df.copy()"
   ]
  },
  {
   "cell_type": "markdown",
   "id": "6efe111f-d8d8-4e15-88da-2973ee649dbd",
   "metadata": {},
   "source": [
    "#### Subset data to only geographic areas, only single counties, having a HPSA status of Designated or Proposed for Withdrawal"
   ]
  },
  {
   "cell_type": "code",
   "execution_count": 3,
   "id": "6434bf25-aa09-455e-abe6-f785b85e48f9",
   "metadata": {},
   "outputs": [
    {
     "data": {
      "text/plain": [
       "Geographic Population                                          27604\n",
       "Low Income Population HPSA                                     22282\n",
       "Medicaid Eligible Population HPSA                               5745\n",
       "Low Income Migrant Farmworker Population HPSA                    669\n",
       "Other Population HPSA                                            557\n",
       "Low Income Homeless Population HPSA                              520\n",
       "Low Income Homeless Migrant Farmworker Population HPSA           450\n",
       "Homeless Population HPSA                                         443\n",
       "Native American Population HPSA                                  327\n",
       "Migrant Seasonal Worker Population HPSA                          180\n",
       "Low Income Migrant Seasonal Worker Population HPSA                54\n",
       "Low Income Homeless Migrant Seasonal Worker Population HPSA       44\n",
       "Migrant Farmworker Population HPSA                                24\n",
       "Name: HPSA Population Type, dtype: int64"
      ]
     },
     "execution_count": 3,
     "metadata": {},
     "output_type": "execute_result"
    }
   ],
   "source": [
    "# I only want to focus on HPSAs in geographic areas (NOT populations groups or facilities)\n",
    "# Get info about the type of HPSAs in this dataset\n",
    "hpsa['HPSA Population Type'].value_counts()"
   ]
  },
  {
   "cell_type": "code",
   "execution_count": 4,
   "id": "1f3b4649-8fc8-4372-993c-68c1d0f4521d",
   "metadata": {},
   "outputs": [
    {
     "data": {
      "text/plain": [
       "(27604, 65)"
      ]
     },
     "execution_count": 4,
     "metadata": {},
     "output_type": "execute_result"
    }
   ],
   "source": [
    "# Keep only the rows that are of the Geographic Population type\n",
    "hpsa = hpsa[hpsa['HPSA Population Type'] == 'Geographic Population']\n",
    "\n",
    "# Check shape to make sure indexing worked\n",
    "hpsa.shape"
   ]
  },
  {
   "cell_type": "code",
   "execution_count": 5,
   "id": "c6a4e946-62f5-4e74-8eb2-4ecfb8b1c764",
   "metadata": {},
   "outputs": [
    {
     "data": {
      "text/plain": [
       "Withdrawn                  20950\n",
       "Designated                  3646\n",
       "Proposed For Withdrawal     3008\n",
       "Name: HPSA Status, dtype: int64"
      ]
     },
     "execution_count": 5,
     "metadata": {},
     "output_type": "execute_result"
    }
   ],
   "source": [
    "# I only want to focus on currently HPSAs that have NOT been withdrawn\n",
    "# Get info about current HPSA status\n",
    "hpsa['HPSA Status'].value_counts()"
   ]
  },
  {
   "cell_type": "code",
   "execution_count": 6,
   "id": "16218300-ae7b-4849-8b76-e8200c311d98",
   "metadata": {},
   "outputs": [
    {
     "data": {
      "text/plain": [
       "(6654, 65)"
      ]
     },
     "execution_count": 6,
     "metadata": {},
     "output_type": "execute_result"
    }
   ],
   "source": [
    "# Keep only the rows that have a status of Designated or Proposed For Withdrawal\n",
    "hpsa = hpsa[hpsa['HPSA Status'] != 'Withdrawn']\n",
    "\n",
    "# Check shape to make sure indexing worked\n",
    "hpsa.shape"
   ]
  },
  {
   "cell_type": "code",
   "execution_count": 7,
   "id": "08731041-daba-431a-b8a4-1c3ec5fc82d0",
   "metadata": {},
   "outputs": [
    {
     "data": {
      "text/plain": [
       "Census Tract          3891\n",
       "County Subdivision    1651\n",
       "Single County         1112\n",
       "Name: HPSA Component Type Description, dtype: int64"
      ]
     },
     "execution_count": 7,
     "metadata": {},
     "output_type": "execute_result"
    }
   ],
   "source": [
    "# I only want to focus on single counties\n",
    "# Get info about component type (i.e. type of geography)\n",
    "hpsa['HPSA Component Type Description'].value_counts()"
   ]
  },
  {
   "cell_type": "code",
   "execution_count": 8,
   "id": "1aec19e5-3ddb-416a-953e-dc9eba0fba86",
   "metadata": {},
   "outputs": [
    {
     "data": {
      "text/plain": [
       "(1112, 65)"
      ]
     },
     "execution_count": 8,
     "metadata": {},
     "output_type": "execute_result"
    }
   ],
   "source": [
    "# Keep only the rows that have a component type of Single County\n",
    "hpsa = hpsa[hpsa['HPSA Component Type Description'] == 'Single County']\n",
    "\n",
    "# Check shape to make sure indexing worked\n",
    "hpsa.shape"
   ]
  },
  {
   "cell_type": "code",
   "execution_count": 9,
   "id": "a732ce4e-45d1-4e0e-8671-3493f4f3eaf8",
   "metadata": {},
   "outputs": [
    {
     "data": {
      "text/plain": [
       "array(['Texas', 'Ohio', 'Wisconsin', 'Washington', 'South Dakota',\n",
       "       'Oklahoma', 'North Carolina', 'Marshall Islands',\n",
       "       'Federated States of Micronesia', 'American Samoa', 'Wyoming',\n",
       "       'Virginia', 'Utah', 'Pennsylvania', 'Nevada', 'Mississippi',\n",
       "       'Minnesota', 'Michigan', 'Kansas', 'Iowa', 'Indiana', 'Missouri',\n",
       "       'Louisiana', 'New York', 'Georgia', 'Colorado', 'Alaska',\n",
       "       'Illinois', 'Hawaii', 'Arkansas', 'Florida', 'Republic of Palau',\n",
       "       'Northern Mariana Islands', 'Tennessee', 'Oregon', 'North Dakota',\n",
       "       'West Virginia', 'South Carolina', 'Montana', 'New Mexico',\n",
       "       'Nebraska', 'Kentucky', 'Massachusetts', 'California', 'Alabama',\n",
       "       'Idaho', 'Maryland', 'U.S. Virgin Islands'], dtype=object)"
      ]
     },
     "execution_count": 9,
     "metadata": {},
     "output_type": "execute_result"
    }
   ],
   "source": [
    "# Check what states are represented\n",
    "hpsa['Common State Name'].unique()"
   ]
  },
  {
   "cell_type": "code",
   "execution_count": 10,
   "id": "83e1cac2-7a64-4745-a454-107fccdbcd64",
   "metadata": {},
   "outputs": [
    {
     "data": {
      "text/plain": [
       "array(['Texas', 'Ohio', 'Wisconsin', 'Washington', 'South Dakota',\n",
       "       'Oklahoma', 'North Carolina', 'Marshall Islands', 'Wyoming',\n",
       "       'Virginia', 'Utah', 'Pennsylvania', 'Nevada', 'Mississippi',\n",
       "       'Minnesota', 'Michigan', 'Kansas', 'Iowa', 'Indiana', 'Missouri',\n",
       "       'Louisiana', 'New York', 'Georgia', 'Colorado', 'Alaska',\n",
       "       'Illinois', 'Hawaii', 'Arkansas', 'Florida', 'Republic of Palau',\n",
       "       'Tennessee', 'Oregon', 'North Dakota', 'West Virginia',\n",
       "       'South Carolina', 'Montana', 'New Mexico', 'Nebraska', 'Kentucky',\n",
       "       'Massachusetts', 'California', 'Alabama', 'Idaho', 'Maryland'],\n",
       "      dtype=object)"
      ]
     },
     "execution_count": 10,
     "metadata": {},
     "output_type": "execute_result"
    }
   ],
   "source": [
    "# Exclude rows that are NOT the 50 US states (i.e. exclude US territories & insular areas)\n",
    "excluded = ['Federated States of Micronesia', 'American Samoa', 'Northern Mariana Islands', 'U.S. Virgin Islands']\n",
    "\n",
    "hpsa = hpsa[~hpsa['Common State Name'].isin(excluded)]\n",
    "\n",
    "# Check states again to make sure indexing worked\n",
    "hpsa['Common State Name'].unique()"
   ]
  },
  {
   "cell_type": "code",
   "execution_count": 11,
   "id": "389d13da-c0e0-4ef6-9979-a5f8fefc6a91",
   "metadata": {},
   "outputs": [
    {
     "data": {
      "text/plain": [
       "Republic of the Marshall Islands    31\n",
       "Republic of Palau                   16\n",
       "Washington County                    9\n",
       "Lincoln County                       8\n",
       "Clay County                          7\n",
       "                                    ..\n",
       "LaMoure County                       1\n",
       "Wirt County                          1\n",
       "Hampshire County                     1\n",
       "Wyoming County                       1\n",
       "Colusa County                        1\n",
       "Name: HPSA Name, Length: 756, dtype: int64"
      ]
     },
     "execution_count": 11,
     "metadata": {},
     "output_type": "execute_result"
    }
   ],
   "source": [
    "# Check the counties\n",
    "hpsa['HPSA Name'].value_counts()"
   ]
  },
  {
   "cell_type": "code",
   "execution_count": 12,
   "id": "191262cc-00c6-49d4-ae87-2ce8e3243ed4",
   "metadata": {},
   "outputs": [
    {
     "data": {
      "text/html": [
       "<div>\n",
       "<style scoped>\n",
       "    .dataframe tbody tr th:only-of-type {\n",
       "        vertical-align: middle;\n",
       "    }\n",
       "\n",
       "    .dataframe tbody tr th {\n",
       "        vertical-align: top;\n",
       "    }\n",
       "\n",
       "    .dataframe thead th {\n",
       "        text-align: right;\n",
       "    }\n",
       "</style>\n",
       "<table border=\"1\" class=\"dataframe\">\n",
       "  <thead>\n",
       "    <tr style=\"text-align: right;\">\n",
       "      <th></th>\n",
       "      <th>HPSA Name</th>\n",
       "      <th>HPSA ID</th>\n",
       "      <th>Designation Type</th>\n",
       "      <th>HPSA Discipline Class</th>\n",
       "      <th>HPSA Score</th>\n",
       "      <th>PC MCTA Score</th>\n",
       "      <th>Primary State Abbreviation</th>\n",
       "      <th>HPSA Status</th>\n",
       "      <th>HPSA Designation Date</th>\n",
       "      <th>HPSA Designation Last Update Date</th>\n",
       "      <th>...</th>\n",
       "      <th>Provider Type</th>\n",
       "      <th>Rural Status Code</th>\n",
       "      <th>State Abbreviation</th>\n",
       "      <th>State and County Federal Information Processing Standard Code</th>\n",
       "      <th>State FIPS Code</th>\n",
       "      <th>State Name</th>\n",
       "      <th>U.S. - Mexico Border 100 Kilometer Indicator</th>\n",
       "      <th>U.S. - Mexico Border County Indicator</th>\n",
       "      <th>Data Warehouse Record Create Date</th>\n",
       "      <th>Data Warehouse Record Create Date Text</th>\n",
       "    </tr>\n",
       "  </thead>\n",
       "  <tbody>\n",
       "    <tr>\n",
       "      <th>16895</th>\n",
       "      <td>Washington County</td>\n",
       "      <td>1174775647</td>\n",
       "      <td>Geographic HPSA</td>\n",
       "      <td>Primary Care</td>\n",
       "      <td>12</td>\n",
       "      <td>12.0</td>\n",
       "      <td>IL</td>\n",
       "      <td>Designated</td>\n",
       "      <td>1990-06-15</td>\n",
       "      <td>2021-09-09</td>\n",
       "      <td>...</td>\n",
       "      <td>Not Applicable</td>\n",
       "      <td>R</td>\n",
       "      <td>IL</td>\n",
       "      <td>17189</td>\n",
       "      <td>17</td>\n",
       "      <td>Illinois</td>\n",
       "      <td>N</td>\n",
       "      <td>N</td>\n",
       "      <td>2023-09-12</td>\n",
       "      <td>2023/09/12</td>\n",
       "    </tr>\n",
       "    <tr>\n",
       "      <th>17773</th>\n",
       "      <td>Washington County</td>\n",
       "      <td>1183826548</td>\n",
       "      <td>Geographic HPSA</td>\n",
       "      <td>Primary Care</td>\n",
       "      <td>9</td>\n",
       "      <td>15.0</td>\n",
       "      <td>IN</td>\n",
       "      <td>Designated</td>\n",
       "      <td>2022-03-14</td>\n",
       "      <td>2022-03-14</td>\n",
       "      <td>...</td>\n",
       "      <td>Not Applicable</td>\n",
       "      <td>R</td>\n",
       "      <td>IN</td>\n",
       "      <td>18175</td>\n",
       "      <td>18</td>\n",
       "      <td>Indiana</td>\n",
       "      <td>N</td>\n",
       "      <td>N</td>\n",
       "      <td>2023-09-12</td>\n",
       "      <td>2023/09/12</td>\n",
       "    </tr>\n",
       "    <tr>\n",
       "      <th>19877</th>\n",
       "      <td>Washington County</td>\n",
       "      <td>1124013273</td>\n",
       "      <td>High Needs Geographic HPSA</td>\n",
       "      <td>Primary Care</td>\n",
       "      <td>13</td>\n",
       "      <td>21.0</td>\n",
       "      <td>FL</td>\n",
       "      <td>Designated</td>\n",
       "      <td>2018-10-25</td>\n",
       "      <td>2021-09-10</td>\n",
       "      <td>...</td>\n",
       "      <td>Not Applicable</td>\n",
       "      <td>R</td>\n",
       "      <td>FL</td>\n",
       "      <td>12133</td>\n",
       "      <td>12</td>\n",
       "      <td>Florida</td>\n",
       "      <td>N</td>\n",
       "      <td>N</td>\n",
       "      <td>2023-09-12</td>\n",
       "      <td>2023/09/12</td>\n",
       "    </tr>\n",
       "    <tr>\n",
       "      <th>31124</th>\n",
       "      <td>Washington County</td>\n",
       "      <td>1284537078</td>\n",
       "      <td>High Needs Geographic HPSA</td>\n",
       "      <td>Primary Care</td>\n",
       "      <td>21</td>\n",
       "      <td>NaN</td>\n",
       "      <td>MS</td>\n",
       "      <td>Proposed For Withdrawal</td>\n",
       "      <td>1980-01-17</td>\n",
       "      <td>2021-09-10</td>\n",
       "      <td>...</td>\n",
       "      <td>Not Applicable</td>\n",
       "      <td>R</td>\n",
       "      <td>MS</td>\n",
       "      <td>28151</td>\n",
       "      <td>28</td>\n",
       "      <td>Mississippi</td>\n",
       "      <td>N</td>\n",
       "      <td>N</td>\n",
       "      <td>2023-09-12</td>\n",
       "      <td>2023/09/12</td>\n",
       "    </tr>\n",
       "    <tr>\n",
       "      <th>34361</th>\n",
       "      <td>Washington County</td>\n",
       "      <td>1211849850</td>\n",
       "      <td>Geographic HPSA</td>\n",
       "      <td>Primary Care</td>\n",
       "      <td>11</td>\n",
       "      <td>12.0</td>\n",
       "      <td>KY</td>\n",
       "      <td>Designated</td>\n",
       "      <td>2022-02-18</td>\n",
       "      <td>2022-02-18</td>\n",
       "      <td>...</td>\n",
       "      <td>Not Applicable</td>\n",
       "      <td>R</td>\n",
       "      <td>KY</td>\n",
       "      <td>21229</td>\n",
       "      <td>21</td>\n",
       "      <td>Kentucky</td>\n",
       "      <td>N</td>\n",
       "      <td>N</td>\n",
       "      <td>2023-09-12</td>\n",
       "      <td>2023/09/12</td>\n",
       "    </tr>\n",
       "    <tr>\n",
       "      <th>39527</th>\n",
       "      <td>Washington County</td>\n",
       "      <td>1086860930</td>\n",
       "      <td>Geographic HPSA</td>\n",
       "      <td>Primary Care</td>\n",
       "      <td>16</td>\n",
       "      <td>14.0</td>\n",
       "      <td>CO</td>\n",
       "      <td>Designated</td>\n",
       "      <td>1979-07-10</td>\n",
       "      <td>2021-09-10</td>\n",
       "      <td>...</td>\n",
       "      <td>Not Applicable</td>\n",
       "      <td>R</td>\n",
       "      <td>CO</td>\n",
       "      <td>08121</td>\n",
       "      <td>8</td>\n",
       "      <td>Colorado</td>\n",
       "      <td>N</td>\n",
       "      <td>N</td>\n",
       "      <td>2023-09-12</td>\n",
       "      <td>2023/09/12</td>\n",
       "    </tr>\n",
       "    <tr>\n",
       "      <th>51041</th>\n",
       "      <td>Washington County</td>\n",
       "      <td>1371382160</td>\n",
       "      <td>High Needs Geographic HPSA</td>\n",
       "      <td>Primary Care</td>\n",
       "      <td>18</td>\n",
       "      <td>21.0</td>\n",
       "      <td>NC</td>\n",
       "      <td>Designated</td>\n",
       "      <td>1980-01-22</td>\n",
       "      <td>2021-09-08</td>\n",
       "      <td>...</td>\n",
       "      <td>Not Applicable</td>\n",
       "      <td>R</td>\n",
       "      <td>NC</td>\n",
       "      <td>37187</td>\n",
       "      <td>37</td>\n",
       "      <td>North Carolina</td>\n",
       "      <td>N</td>\n",
       "      <td>N</td>\n",
       "      <td>2023-09-12</td>\n",
       "      <td>2023/09/12</td>\n",
       "    </tr>\n",
       "    <tr>\n",
       "      <th>59508</th>\n",
       "      <td>Washington County</td>\n",
       "      <td>1219979489</td>\n",
       "      <td>Geographic HPSA</td>\n",
       "      <td>Primary Care</td>\n",
       "      <td>12</td>\n",
       "      <td>NaN</td>\n",
       "      <td>KY</td>\n",
       "      <td>Proposed For Withdrawal</td>\n",
       "      <td>2020-01-10</td>\n",
       "      <td>2021-09-10</td>\n",
       "      <td>...</td>\n",
       "      <td>Not Applicable</td>\n",
       "      <td>R</td>\n",
       "      <td>KY</td>\n",
       "      <td>21229</td>\n",
       "      <td>21</td>\n",
       "      <td>Kentucky</td>\n",
       "      <td>N</td>\n",
       "      <td>N</td>\n",
       "      <td>2023-09-12</td>\n",
       "      <td>2023/09/12</td>\n",
       "    </tr>\n",
       "    <tr>\n",
       "      <th>61965</th>\n",
       "      <td>Washington County</td>\n",
       "      <td>1013727029</td>\n",
       "      <td>Geographic HPSA</td>\n",
       "      <td>Primary Care</td>\n",
       "      <td>19</td>\n",
       "      <td>16.0</td>\n",
       "      <td>AL</td>\n",
       "      <td>Designated</td>\n",
       "      <td>2022-04-05</td>\n",
       "      <td>2022-04-05</td>\n",
       "      <td>...</td>\n",
       "      <td>Not Applicable</td>\n",
       "      <td>R</td>\n",
       "      <td>AL</td>\n",
       "      <td>01129</td>\n",
       "      <td>1</td>\n",
       "      <td>Alabama</td>\n",
       "      <td>N</td>\n",
       "      <td>N</td>\n",
       "      <td>2023-09-12</td>\n",
       "      <td>2023/09/12</td>\n",
       "    </tr>\n",
       "  </tbody>\n",
       "</table>\n",
       "<p>9 rows × 65 columns</p>\n",
       "</div>"
      ],
      "text/plain": [
       "               HPSA Name     HPSA ID            Designation Type  \\\n",
       "16895  Washington County  1174775647             Geographic HPSA   \n",
       "17773  Washington County  1183826548             Geographic HPSA   \n",
       "19877  Washington County  1124013273  High Needs Geographic HPSA   \n",
       "31124  Washington County  1284537078  High Needs Geographic HPSA   \n",
       "34361  Washington County  1211849850             Geographic HPSA   \n",
       "39527  Washington County  1086860930             Geographic HPSA   \n",
       "51041  Washington County  1371382160  High Needs Geographic HPSA   \n",
       "59508  Washington County  1219979489             Geographic HPSA   \n",
       "61965  Washington County  1013727029             Geographic HPSA   \n",
       "\n",
       "      HPSA Discipline Class  HPSA Score  PC MCTA Score  \\\n",
       "16895          Primary Care          12           12.0   \n",
       "17773          Primary Care           9           15.0   \n",
       "19877          Primary Care          13           21.0   \n",
       "31124          Primary Care          21            NaN   \n",
       "34361          Primary Care          11           12.0   \n",
       "39527          Primary Care          16           14.0   \n",
       "51041          Primary Care          18           21.0   \n",
       "59508          Primary Care          12            NaN   \n",
       "61965          Primary Care          19           16.0   \n",
       "\n",
       "      Primary State Abbreviation              HPSA Status  \\\n",
       "16895                         IL               Designated   \n",
       "17773                         IN               Designated   \n",
       "19877                         FL               Designated   \n",
       "31124                         MS  Proposed For Withdrawal   \n",
       "34361                         KY               Designated   \n",
       "39527                         CO               Designated   \n",
       "51041                         NC               Designated   \n",
       "59508                         KY  Proposed For Withdrawal   \n",
       "61965                         AL               Designated   \n",
       "\n",
       "      HPSA Designation Date HPSA Designation Last Update Date  ...  \\\n",
       "16895            1990-06-15                        2021-09-09  ...   \n",
       "17773            2022-03-14                        2022-03-14  ...   \n",
       "19877            2018-10-25                        2021-09-10  ...   \n",
       "31124            1980-01-17                        2021-09-10  ...   \n",
       "34361            2022-02-18                        2022-02-18  ...   \n",
       "39527            1979-07-10                        2021-09-10  ...   \n",
       "51041            1980-01-22                        2021-09-08  ...   \n",
       "59508            2020-01-10                        2021-09-10  ...   \n",
       "61965            2022-04-05                        2022-04-05  ...   \n",
       "\n",
       "        Provider Type Rural Status Code State Abbreviation  \\\n",
       "16895  Not Applicable                 R                 IL   \n",
       "17773  Not Applicable                 R                 IN   \n",
       "19877  Not Applicable                 R                 FL   \n",
       "31124  Not Applicable                 R                 MS   \n",
       "34361  Not Applicable                 R                 KY   \n",
       "39527  Not Applicable                 R                 CO   \n",
       "51041  Not Applicable                 R                 NC   \n",
       "59508  Not Applicable                 R                 KY   \n",
       "61965  Not Applicable                 R                 AL   \n",
       "\n",
       "      State and County Federal Information Processing Standard Code  \\\n",
       "16895                                              17189              \n",
       "17773                                              18175              \n",
       "19877                                              12133              \n",
       "31124                                              28151              \n",
       "34361                                              21229              \n",
       "39527                                              08121              \n",
       "51041                                              37187              \n",
       "59508                                              21229              \n",
       "61965                                              01129              \n",
       "\n",
       "       State FIPS Code      State Name  \\\n",
       "16895               17        Illinois   \n",
       "17773               18         Indiana   \n",
       "19877               12         Florida   \n",
       "31124               28     Mississippi   \n",
       "34361               21        Kentucky   \n",
       "39527                8        Colorado   \n",
       "51041               37  North Carolina   \n",
       "59508               21        Kentucky   \n",
       "61965                1         Alabama   \n",
       "\n",
       "       U.S. - Mexico Border 100 Kilometer Indicator  \\\n",
       "16895                                             N   \n",
       "17773                                             N   \n",
       "19877                                             N   \n",
       "31124                                             N   \n",
       "34361                                             N   \n",
       "39527                                             N   \n",
       "51041                                             N   \n",
       "59508                                             N   \n",
       "61965                                             N   \n",
       "\n",
       "      U.S. - Mexico Border County Indicator Data Warehouse Record Create Date  \\\n",
       "16895                                     N                        2023-09-12   \n",
       "17773                                     N                        2023-09-12   \n",
       "19877                                     N                        2023-09-12   \n",
       "31124                                     N                        2023-09-12   \n",
       "34361                                     N                        2023-09-12   \n",
       "39527                                     N                        2023-09-12   \n",
       "51041                                     N                        2023-09-12   \n",
       "59508                                     N                        2023-09-12   \n",
       "61965                                     N                        2023-09-12   \n",
       "\n",
       "      Data Warehouse Record Create Date Text  \n",
       "16895                             2023/09/12  \n",
       "17773                             2023/09/12  \n",
       "19877                             2023/09/12  \n",
       "31124                             2023/09/12  \n",
       "34361                             2023/09/12  \n",
       "39527                             2023/09/12  \n",
       "51041                             2023/09/12  \n",
       "59508                             2023/09/12  \n",
       "61965                             2023/09/12  \n",
       "\n",
       "[9 rows x 65 columns]"
      ]
     },
     "execution_count": 12,
     "metadata": {},
     "output_type": "execute_result"
    }
   ],
   "source": [
    "# Why are there more than one value count for some of the counties? (e.g. Washington County)\n",
    "# Check what the Washington County rows look like\n",
    "hpsa[hpsa['HPSA Name'] == 'Washington County']"
   ]
  },
  {
   "cell_type": "code",
   "execution_count": 13,
   "id": "b232b5cc-e90e-4f8d-81e2-5f1c08345788",
   "metadata": {},
   "outputs": [
    {
     "data": {
      "text/plain": [
       "(1094, 65)"
      ]
     },
     "execution_count": 13,
     "metadata": {},
     "output_type": "execute_result"
    }
   ],
   "source": [
    "# Looks like they are just counties in different states that share the same name, no problem!\n",
    "\n",
    "# Get shape of the hpsa dataframe in its current state\n",
    "hpsa.shape"
   ]
  },
  {
   "cell_type": "code",
   "execution_count": 14,
   "id": "8c80797e-f165-4d6e-aabc-cac0bcd5ea94",
   "metadata": {},
   "outputs": [
    {
     "data": {
      "text/plain": [
       "0"
      ]
     },
     "execution_count": 14,
     "metadata": {},
     "output_type": "execute_result"
    }
   ],
   "source": [
    "# Check for duplicated rows\n",
    "hpsa.duplicated().sum()"
   ]
  },
  {
   "cell_type": "markdown",
   "id": "f2b90ae9-97bc-4e4f-bc5c-d0fc5faf6e7c",
   "metadata": {},
   "source": [
    "#### Drop unnecessary columns"
   ]
  },
  {
   "cell_type": "code",
   "execution_count": 15,
   "id": "3fd4ad13-0bd8-40c8-8ae2-0291d9f12a4c",
   "metadata": {},
   "outputs": [],
   "source": [
    "# Identify columns to be dropped\n",
    "cols_to_drop = ['HPSA ID', 'HPSA Discipline Class', 'PC MCTA Score', 'Primary State Abbreviation', 'Metropolitan Indicator',\n",
    "                'HPSA Geography Identification Number', 'HPSA Degree of Shortage', 'Withdrawn Date', 'HPSA Population Type',\n",
    "                'Longitude', 'Latitude', 'BHCMIS Organization Identification Number', 'Break in Designation', 'Common Postal Code',\n",
    "                'Common State FIPS Code', 'County or County Equivalent Federal Information Processing Standard Code',\n",
    "                'Discipline Class Number', 'HPSA Address', 'HPSA Component Name', 'HPSA Component Source Identification Number',\n",
    "                'HPSA Component State Abbreviation', 'HPSA Component Type Code', 'HPSA Component Type Description',\n",
    "                'HPSA Designation Population Type Description', 'HPSA Metropolitan Indicator Code', 'HPSA Population Type Code',\n",
    "                'HPSA Postal Code', 'HPSA Resident Civilian Population', 'HPSA Status Code', 'HPSA Type Code', 'HPSA City',\n",
    "                'HPSA Withdrawn Date String', 'Primary State FIPS Code', 'Primary State Name', 'Provider Type', 'Rural Status Code',\n",
    "                'State Abbreviation', 'State and County Federal Information Processing Standard Code', 'State FIPS Code',\n",
    "                'State Name', 'U.S. - Mexico Border 100 Kilometer Indicator', 'U.S. - Mexico Border County Indicator',\n",
    "                'Data Warehouse Record Create Date', 'Data Warehouse Record Create Date Text']\n",
    "\n",
    "hpsa = hpsa.drop(columns = cols_to_drop)"
   ]
  },
  {
   "cell_type": "code",
   "execution_count": 16,
   "id": "709d69ec-0305-488e-9054-6ec5b4478c12",
   "metadata": {},
   "outputs": [
    {
     "data": {
      "text/plain": [
       "Index(['HPSA Name', 'Designation Type', 'HPSA Score', 'HPSA Status',\n",
       "       'HPSA Designation Date', 'HPSA Designation Last Update Date',\n",
       "       'HPSA FTE', 'HPSA Designation Population',\n",
       "       '% of Population Below 100% Poverty', 'HPSA Formal Ratio',\n",
       "       'Rural Status', 'Common County Name', 'Common Region Name',\n",
       "       'Common State Abbreviation', 'Common State County FIPS Code',\n",
       "       'Common State Name', 'County Equivalent Name',\n",
       "       'HPSA Estimated Served Population',\n",
       "       'HPSA Estimated Underserved Population', 'HPSA Provider Ratio Goal',\n",
       "       'HPSA Shortage'],\n",
       "      dtype='object')"
      ]
     },
     "execution_count": 16,
     "metadata": {},
     "output_type": "execute_result"
    }
   ],
   "source": [
    "# List all remaining column names\n",
    "hpsa.columns"
   ]
  },
  {
   "cell_type": "code",
   "execution_count": 17,
   "id": "34959b36-87ee-494e-8870-7526976e32ed",
   "metadata": {},
   "outputs": [
    {
     "name": "stdout",
     "output_type": "stream",
     "text": [
      "<class 'pandas.core.frame.DataFrame'>\n",
      "Int64Index: 1094 entries, 346 to 64846\n",
      "Data columns (total 21 columns):\n",
      " #   Column                                 Non-Null Count  Dtype         \n",
      "---  ------                                 --------------  -----         \n",
      " 0   HPSA Name                              1094 non-null   object        \n",
      " 1   Designation Type                       1094 non-null   object        \n",
      " 2   HPSA Score                             1094 non-null   int64         \n",
      " 3   HPSA Status                            1094 non-null   object        \n",
      " 4   HPSA Designation Date                  1094 non-null   datetime64[ns]\n",
      " 5   HPSA Designation Last Update Date      1094 non-null   datetime64[ns]\n",
      " 6   HPSA FTE                               1094 non-null   float64       \n",
      " 7   HPSA Designation Population            1094 non-null   float64       \n",
      " 8   % of Population Below 100% Poverty     1094 non-null   float64       \n",
      " 9   HPSA Formal Ratio                      870 non-null    object        \n",
      " 10  Rural Status                           1094 non-null   object        \n",
      " 11  Common County Name                     1094 non-null   object        \n",
      " 12  Common Region Name                     1094 non-null   object        \n",
      " 13  Common State Abbreviation              1094 non-null   object        \n",
      " 14  Common State County FIPS Code          1094 non-null   object        \n",
      " 15  Common State Name                      1094 non-null   object        \n",
      " 16  County Equivalent Name                 1094 non-null   object        \n",
      " 17  HPSA Estimated Served Population       1094 non-null   float64       \n",
      " 18  HPSA Estimated Underserved Population  1094 non-null   float64       \n",
      " 19  HPSA Provider Ratio Goal               1094 non-null   object        \n",
      " 20  HPSA Shortage                          1094 non-null   float64       \n",
      "dtypes: datetime64[ns](2), float64(6), int64(1), object(12)\n",
      "memory usage: 188.0+ KB\n"
     ]
    }
   ],
   "source": [
    "# Get info about the hpsa transformed dataframe\n",
    "hpsa.info()"
   ]
  }
 ],
 "metadata": {
  "kernelspec": {
   "display_name": "Python 3 (ipykernel)",
   "language": "python",
   "name": "python3"
  },
  "language_info": {
   "codemirror_mode": {
    "name": "ipython",
    "version": 3
   },
   "file_extension": ".py",
   "mimetype": "text/x-python",
   "name": "python",
   "nbconvert_exporter": "python",
   "pygments_lexer": "ipython3",
   "version": "3.10.9"
  }
 },
 "nbformat": 4,
 "nbformat_minor": 5
}
