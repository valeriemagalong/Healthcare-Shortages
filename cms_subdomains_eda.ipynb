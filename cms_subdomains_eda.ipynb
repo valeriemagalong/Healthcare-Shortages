{
 "cells": [
  {
   "cell_type": "markdown",
   "id": "33319cb7-3340-47d2-a230-f51e100cfcb7",
   "metadata": {},
   "source": [
    "# CMS General Hospital Information - Subdomain Scores - Exploratory Data Analysis\n",
    "---\n",
    "### Are there differences in CMS Hospital Quality subdomain scores between hospitals in shortage areas versus those in non-shortage areas?\n",
    "---"
   ]
  },
  {
   "cell_type": "code",
   "execution_count": 1,
   "id": "42c4b519-a6f2-4233-8751-d73746945c5d",
   "metadata": {},
   "outputs": [],
   "source": [
    "import pandas as pd\n",
    "import matplotlib.pyplot as plt\n",
    "import seaborn as sns\n",
    "from get_cleaned_cms import cms\n",
    "from get_cleaned_toc import toc"
   ]
  },
  {
   "cell_type": "code",
   "execution_count": 2,
   "id": "9c59ea85-9c92-4e89-a5bf-38a285dde044",
   "metadata": {},
   "outputs": [],
   "source": [
    "# Define custom color palette for all plots by state\n",
    "custom_palette = {'Mississippi': '#5899c6', 'Louisiana': '#ff9f4b', 'Alabama': '#61b862'}\n",
    "shortage_palette = {'Non-Shortage Area': '#acac91', 'Shortage Area': '#f64000'}\n",
    "\n",
    "# Define custom parameters for all plots\n",
    "custom_params = {\n",
    "    \"axes.spines.right\": False,\n",
    "    \"axes.spines.top\": False,\n",
    "    \"font.size\": 14,\n",
    "    \"axes.titleweight\": \"bold\",\n",
    "    \"axes.titlesize\": 16  \n",
    "}\n",
    "\n",
    "sns.set_theme(style = 'ticks', font = 'Arial', rc = custom_params)"
   ]
  },
  {
   "cell_type": "markdown",
   "id": "99462b73-4775-4c4d-a571-4dc048016f5c",
   "metadata": {},
   "source": [
    "#### Create `acms` dataframe for acute care hospital data."
   ]
  },
  {
   "cell_type": "code",
   "execution_count": 3,
   "id": "83551da4-a56e-4eb8-970c-f5b4bf58404e",
   "metadata": {},
   "outputs": [],
   "source": [
    "# Define the hospital type of interest\n",
    "acute_types = ['Acute Care Hospitals', 'Acute Care - Veterans Administration', 'Acute Care - Department of Defense']\n",
    "\n",
    "# Subset the cms dataframe, keeping only rows from acute care hospitals, and dropping rows that have nulls in star rating\n",
    "acms = cms[cms['Hospital Type'].isin(acute_types)].dropna(subset = ['Hospital overall rating'])"
   ]
  },
  {
   "cell_type": "markdown",
   "id": "2ea8b44d-4da8-4806-ba90-522048ed0de6",
   "metadata": {},
   "source": [
    "#### Title-case each of the subdomain measure names."
   ]
  },
  {
   "cell_type": "code",
   "execution_count": 4,
   "id": "47facd1c-d10f-45ef-b32c-45ad1f7afeaa",
   "metadata": {},
   "outputs": [],
   "source": [
    "# Clean subdomain measures columns\n",
    "cols_to_edit = ['Mortality national comparison', 'Safety of care national comparison', 'Readmission national comparison',\n",
    "                'Patient experience national comparison', 'Effectiveness of care national comparison', 'Timeliness of care national comparison',\n",
    "                'Efficient use of medical imaging national comparison']\n",
    "\n",
    "# Title-case all values in subdomain measure columns\n",
    "acms[cols_to_edit] = acms[cols_to_edit].astype(str).applymap(lambda x: x.title())"
   ]
  },
  {
   "cell_type": "code",
   "execution_count": 5,
   "id": "515e8369-53b5-4e86-8b38-acb249898610",
   "metadata": {},
   "outputs": [
    {
     "data": {
      "text/plain": [
       "Nan                             519\n",
       "Same As The National Average    417\n",
       "Below The National Average      299\n",
       "Not Available                   235\n",
       "Above The National Average       44\n",
       "Name: Efficient use of medical imaging national comparison, dtype: int64"
      ]
     },
     "execution_count": 5,
     "metadata": {},
     "output_type": "execute_result"
    }
   ],
   "source": [
    "# Check the values of one of the subdomains for clarity\n",
    "acms['Efficient use of medical imaging national comparison'].value_counts()"
   ]
  },
  {
   "cell_type": "code",
   "execution_count": 6,
   "id": "4fde2570-ac2b-499a-a578-7841763aca1a",
   "metadata": {},
   "outputs": [],
   "source": [
    "# Export acms dataframe to csv\n",
    "# acms.to_csv('cleaned_data/acms_subdomains_2016-2020.csv', index = False)"
   ]
  },
  {
   "cell_type": "markdown",
   "id": "9f3c2a76-db19-4fc0-870d-a44f0fd7e9eb",
   "metadata": {},
   "source": [
    "### Exploring the `toc` (Timeliness of Care) dataframe."
   ]
  },
  {
   "cell_type": "code",
   "execution_count": 7,
   "id": "4828312b-4070-462e-9f09-5db39436700c",
   "metadata": {},
   "outputs": [
    {
     "name": "stdout",
     "output_type": "stream",
     "text": [
      "<class 'pandas.core.frame.DataFrame'>\n",
      "Int64Index: 5376 entries, 0 to 5375\n",
      "Data columns (total 27 columns):\n",
      " #   Column                              Non-Null Count  Dtype  \n",
      "---  ------                              --------------  -----  \n",
      " 0   Year                                5376 non-null   int64  \n",
      " 1   Quarter                             5376 non-null   object \n",
      " 2   Facility ID                         5376 non-null   object \n",
      " 3   Facility Name                       5376 non-null   object \n",
      " 4   City                                5376 non-null   object \n",
      " 5   State                               5376 non-null   object \n",
      " 6   ZIP Code                            5376 non-null   int64  \n",
      " 7   County Name                         5376 non-null   object \n",
      " 8   Condition                           5376 non-null   object \n",
      " 9   Measure ID                          5376 non-null   object \n",
      " 10  Measure Name                        5376 non-null   object \n",
      " 11  Score                               5376 non-null   float64\n",
      " 12  Sample                              5376 non-null   object \n",
      " 13  County                              5376 non-null   object \n",
      " 14  Common State County FIPS Code       5376 non-null   object \n",
      " 15  Latitude                            5376 non-null   float64\n",
      " 16  Longitude                           5376 non-null   float64\n",
      " 17  County HPSA Status                  5376 non-null   object \n",
      " 18  Designation Type                    2212 non-null   object \n",
      " 19  HPSA Score                          2212 non-null   float64\n",
      " 20  HPSA FTE                            2212 non-null   float64\n",
      " 21  HPSA Designation Population         2212 non-null   float64\n",
      " 22  % of Population Below 100% Poverty  2212 non-null   float64\n",
      " 23  HPSA Formal Ratio                   2182 non-null   object \n",
      " 24  Rural Status                        2212 non-null   object \n",
      " 25  HPSA Provider Ratio Goal            2212 non-null   object \n",
      " 26  HPSA Shortage                       2212 non-null   float64\n",
      "dtypes: float64(8), int64(2), object(17)\n",
      "memory usage: 1.1+ MB\n"
     ]
    }
   ],
   "source": [
    "# Get info about toc\n",
    "toc.info()"
   ]
  }
 ],
 "metadata": {
  "kernelspec": {
   "display_name": "Python 3 (ipykernel)",
   "language": "python",
   "name": "python3"
  },
  "language_info": {
   "codemirror_mode": {
    "name": "ipython",
    "version": 3
   },
   "file_extension": ".py",
   "mimetype": "text/x-python",
   "name": "python",
   "nbconvert_exporter": "python",
   "pygments_lexer": "ipython3",
   "version": "3.10.9"
  }
 },
 "nbformat": 4,
 "nbformat_minor": 5
}
