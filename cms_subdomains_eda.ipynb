{
 "cells": [
  {
   "cell_type": "markdown",
   "id": "33319cb7-3340-47d2-a230-f51e100cfcb7",
   "metadata": {},
   "source": [
    "# CMS General Hospital Information - Subdomain Scores - Exploratory Data Analysis\n",
    "---\n",
    "### Are there differences in CMS Hospital Quality subdomain scores between hospitals in shortage areas versus those in non-shortage areas?\n",
    "---"
   ]
  },
  {
   "cell_type": "code",
   "execution_count": 1,
   "id": "42c4b519-a6f2-4233-8751-d73746945c5d",
   "metadata": {},
   "outputs": [],
   "source": [
    "import pandas as pd\n",
    "import matplotlib.pyplot as plt\n",
    "import seaborn as sns\n",
    "from get_cleaned_cms import cms"
   ]
  },
  {
   "cell_type": "code",
   "execution_count": 2,
   "id": "9c59ea85-9c92-4e89-a5bf-38a285dde044",
   "metadata": {},
   "outputs": [],
   "source": [
    "# Define custom color palette for all plots by state\n",
    "custom_palette = {'Mississippi': '#5899c6', 'Louisiana': '#ff9f4b', 'Alabama': '#61b862'}\n",
    "shortage_palette = {'Non-Shortage Area': '#acac91', 'Shortage Area': '#f64000'}\n",
    "\n",
    "# Define custom parameters for all plots\n",
    "custom_params = {\n",
    "    \"axes.spines.right\": False,\n",
    "    \"axes.spines.top\": False,\n",
    "    \"font.size\": 14,\n",
    "    \"axes.titleweight\": \"bold\",\n",
    "    \"axes.titlesize\": 16  \n",
    "}\n",
    "\n",
    "sns.set_theme(style = 'ticks', font = 'Arial', rc = custom_params)"
   ]
  },
  {
   "cell_type": "code",
   "execution_count": 12,
   "id": "9705871f-8f1c-4a9b-bdf7-de4a68364976",
   "metadata": {},
   "outputs": [
    {
     "data": {
      "text/plain": [
       "(2704, 53)"
      ]
     },
     "execution_count": 12,
     "metadata": {},
     "output_type": "execute_result"
    }
   ],
   "source": [
    "# Get the shape of cms\n",
    "cms.shape"
   ]
  },
  {
   "cell_type": "code",
   "execution_count": 9,
   "id": "83551da4-a56e-4eb8-970c-f5b4bf58404e",
   "metadata": {},
   "outputs": [],
   "source": [
    "# Define the hospital type of interest\n",
    "acute_types = ['Acute Care Hospitals', 'Acute Care - Veterans Administration', 'Acute Care - Department of Defense']\n",
    "\n",
    "# Subset the cms dataframe, keeping only rows from acute care hospitals, and dropping rows that have nulls in star rating\n",
    "acms = cms[cms['Hospital Type'].isin(acute_types)].dropna(subset = ['Hospital overall rating'])"
   ]
  },
  {
   "cell_type": "code",
   "execution_count": 14,
   "id": "b129f429-dc2b-4894-9226-ca4e3fe6ce9a",
   "metadata": {},
   "outputs": [
    {
     "data": {
      "text/plain": [
       "(1514, 53)"
      ]
     },
     "execution_count": 14,
     "metadata": {},
     "output_type": "execute_result"
    }
   ],
   "source": [
    "# Get the shape of acms\n",
    "acms.shape"
   ]
  },
  {
   "cell_type": "code",
   "execution_count": 15,
   "id": "cef6882e-58b7-4259-9922-dcabb8c5e8f8",
   "metadata": {},
   "outputs": [
    {
     "data": {
      "text/plain": [
       "Index(['Year', 'Quarter', 'Facility ID', 'Facility Name', 'City', 'State',\n",
       "       'ZIP Code', 'Hospital Type', 'Hospital Ownership', 'Emergency Services',\n",
       "       'Meets criteria for meaningful use of EHRs', 'Hospital overall rating',\n",
       "       'Mortality national comparison', 'Safety of care national comparison',\n",
       "       'Readmission national comparison',\n",
       "       'Patient experience national comparison',\n",
       "       'Effectiveness of care national comparison',\n",
       "       'Timeliness of care national comparison',\n",
       "       'Efficient use of medical imaging national comparison',\n",
       "       'Meets criteria for promoting interoperability of EHRs',\n",
       "       'MORT Group Measure Count', 'Count of Facility MORT Measures',\n",
       "       'Count of MORT Measures Better', 'Count of MORT Measures No Different',\n",
       "       'Count of MORT Measures Worse', 'Safety Group Measure Count',\n",
       "       'Count of Facility Safety Measures', 'Count of Safety Measures Better',\n",
       "       'Count of Safety Measures No Different',\n",
       "       'Count of Safety Measures Worse', 'READM Group Measure Count',\n",
       "       'Count of Facility READM Measures', 'Count of READM Measures Better',\n",
       "       'Count of READM Measures No Different', 'Count of READM Measures Worse',\n",
       "       'Pt Exp Group Measure Count', 'Count of Facility Pt Exp Measures',\n",
       "       'TE Group Measure Count', 'Count of Facility TE Measures', 'County',\n",
       "       'Common State County FIPS Code', 'Latitude', 'Longitude',\n",
       "       'County HPSA Status', 'Designation Type', 'HPSA Score', 'HPSA FTE',\n",
       "       'HPSA Designation Population', '% of Population Below 100% Poverty',\n",
       "       'HPSA Formal Ratio', 'Rural Status', 'HPSA Provider Ratio Goal',\n",
       "       'HPSA Shortage'],\n",
       "      dtype='object')"
      ]
     },
     "execution_count": 15,
     "metadata": {},
     "output_type": "execute_result"
    }
   ],
   "source": [
    "# Get the acms column names\n",
    "acms.columns "
   ]
  },
  {
   "cell_type": "code",
   "execution_count": 20,
   "id": "47facd1c-d10f-45ef-b32c-45ad1f7afeaa",
   "metadata": {},
   "outputs": [],
   "source": [
    "# Clean subdomain measures columns\n",
    "cols_to_edit = ['Mortality national comparison', 'Safety of care national comparison', 'Readmission national comparison',\n",
    "                'Patient experience national comparison', 'Effectiveness of care national comparison', 'Timeliness of care national comparison',\n",
    "                'Efficient use of medical imaging national comparison']\n",
    "\n",
    "# Title-case all values in subdomain measure columns\n",
    "acms[cols_to_edit] = acms[cols_to_edit].astype(str).applymap(lambda x: x.title())"
   ]
  },
  {
   "cell_type": "code",
   "execution_count": 32,
   "id": "515e8369-53b5-4e86-8b38-acb249898610",
   "metadata": {},
   "outputs": [
    {
     "data": {
      "text/plain": [
       "Nan                             519\n",
       "Same As The National Average    417\n",
       "Below The National Average      299\n",
       "Not Available                   235\n",
       "Above The National Average       44\n",
       "Name: Efficient use of medical imaging national comparison, dtype: int64"
      ]
     },
     "execution_count": 32,
     "metadata": {},
     "output_type": "execute_result"
    }
   ],
   "source": [
    "# Check the values of one of the subdomains for clarity\n",
    "acms['Efficient use of medical imaging national comparison'].value_counts()"
   ]
  },
  {
   "cell_type": "code",
   "execution_count": 27,
   "id": "4fde2570-ac2b-499a-a578-7841763aca1a",
   "metadata": {},
   "outputs": [],
   "source": [
    "# Export acms dataframe to csv\n",
    "acms.to_csv('cleaned_data/acms_subdomains_2016-2020.csv', index = False)"
   ]
  }
 ],
 "metadata": {
  "kernelspec": {
   "display_name": "Python 3 (ipykernel)",
   "language": "python",
   "name": "python3"
  },
  "language_info": {
   "codemirror_mode": {
    "name": "ipython",
    "version": 3
   },
   "file_extension": ".py",
   "mimetype": "text/x-python",
   "name": "python",
   "nbconvert_exporter": "python",
   "pygments_lexer": "ipython3",
   "version": "3.10.9"
  }
 },
 "nbformat": 4,
 "nbformat_minor": 5
}
