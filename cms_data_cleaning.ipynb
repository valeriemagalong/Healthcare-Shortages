{
 "cells": [
  {
   "cell_type": "markdown",
   "id": "d80c9cbc-7c02-4a58-8e08-e078c8e5b2ff",
   "metadata": {},
   "source": [
    "# CMS Hospital Quality of Care - Data Cleaning\n",
    "---"
   ]
  },
  {
   "cell_type": "code",
   "execution_count": 1,
   "id": "9de2cf4c-c52d-4848-a8ce-9ff922071da4",
   "metadata": {},
   "outputs": [],
   "source": [
    "import pandas as pd\n",
    "import addfips as af\n",
    "from uszipcode import SearchEngine"
   ]
  },
  {
   "cell_type": "code",
   "execution_count": 2,
   "id": "a6e483f7-3f08-42b6-883a-d6b98067fbe1",
   "metadata": {},
   "outputs": [],
   "source": [
    "# Create a list called files for the string paths to the raw data\n",
    "files = ['raw_data/2016_Hospital_General_Information.csv', 'raw_data/2017_Hospital_General_Information.csv',\n",
    "         'raw_data/2018_Hospital_General_Information.csv', 'raw_data/2019_Hospital_General_Information.csv',\n",
    "         'raw_data/2020_Hospital_General_Information.csv', 'raw_data/2021_Hospital_General_Information.csv',\n",
    "         'raw_data/2022_Hospital_General_Information.csv', 'raw_data/2023_Hospital_General_Information.csv']\n",
    "\n",
    "# Create an empty list called dfs to hold the dataframes, then read the .csvs and append to dfs\n",
    "dfs = []\n",
    "for file in files:\n",
    "    dfs.append(pd.read_csv(file, encoding = 'iso-8859-1'))\n",
    "\n",
    "# Union all dataframes in dfs into one df\n",
    "df = pd.concat(dfs, ignore_index = True)\n",
    "\n",
    "# Make copy of df called cms; cms will be transformed\n",
    "cms = df.copy()"
   ]
  },
  {
   "cell_type": "markdown",
   "id": "c947e983-f592-4dbe-b3fe-8606d8b9a6f9",
   "metadata": {},
   "source": [
    "#### Drop unnecessary columns"
   ]
  },
  {
   "cell_type": "code",
   "execution_count": 3,
   "id": "6a4652ba-c1c5-4a5e-a2ff-0110cfe1626a",
   "metadata": {},
   "outputs": [],
   "source": [
    "# Identify columns to be dropped\n",
    "cols_to_drop = ['Address', 'County Name', 'Phone Number', 'Hospital overall rating footnote',\n",
    "                'Mortality national comparison footnote', 'Safety of care national comparison footnote',\n",
    "                'Readmission national comparison footnote', 'Patient experience national comparison footnote',\n",
    "                'Effectiveness of care national comparison footnote', 'Timeliness of care national comparison footnote',\n",
    "                'Efficient use of medical imaging national comparison footnote', 'MORT Group Footnote',\n",
    "                'Safety Group Footnote', 'READM Group Footnote', 'Pt Exp Group Footnote', 'TE Group Footnote']\n",
    "\n",
    "cms = cms.drop(columns = cols_to_drop)"
   ]
  },
  {
   "cell_type": "markdown",
   "id": "c845390e-677d-4a6e-ae68-3c1e041a5780",
   "metadata": {},
   "source": [
    "#### I'm only interested in rows from Mississippi, Louisiana, & Alabama."
   ]
  },
  {
   "cell_type": "code",
   "execution_count": 4,
   "id": "e6185694-05b9-44e4-9483-61afe1ab7a7c",
   "metadata": {},
   "outputs": [
    {
     "data": {
      "text/plain": [
       "array(['AL', 'AK', 'AZ', 'AR', 'CA', 'CO', 'CT', 'DE', 'DC', 'FL', 'GA',\n",
       "       'HI', 'ID', 'IL', 'IN', 'IA', 'KS', 'KY', 'LA', 'ME', 'MD', 'MA',\n",
       "       'MI', 'MN', 'MS', 'MO', 'MT', 'NE', 'NV', 'NH', 'NJ', 'NM', 'NY',\n",
       "       'NC', 'ND', 'OH', 'OK', 'OR', 'PA', 'PR', 'RI', 'SC', 'SD', 'TN',\n",
       "       'TX', 'UT', 'VT', 'VA', 'WA', 'WV', 'WI', 'VI', 'WY', 'AS', 'GU',\n",
       "       'MP'], dtype=object)"
      ]
     },
     "execution_count": 4,
     "metadata": {},
     "output_type": "execute_result"
    }
   ],
   "source": [
    "# Check the unique states in the dataframe\n",
    "cms['State'].unique()"
   ]
  },
  {
   "cell_type": "code",
   "execution_count": 5,
   "id": "9c9d4f0d-f922-4ae3-abb7-f25828362fe9",
   "metadata": {},
   "outputs": [
    {
     "data": {
      "text/plain": [
       "array(['AL', 'LA', 'MS'], dtype=object)"
      ]
     },
     "execution_count": 5,
     "metadata": {},
     "output_type": "execute_result"
    }
   ],
   "source": [
    "# Drop all rows excepts those from MS, LA, & AL\n",
    "states = ['MS', 'LA', 'AL']\n",
    "\n",
    "cms = cms[cms['State'].isin(states)]\n",
    "\n",
    "# Check to see that the subset by states worked\n",
    "cms['State'].unique()"
   ]
  },
  {
   "cell_type": "markdown",
   "id": "44a9cefa-53ae-412e-b6db-1d43406183f9",
   "metadata": {},
   "source": [
    "#### I want to add a column named `Common State County FIPS Code` to the `cms` dataframe.  Use the *uszipcode* library to get county name, latitude, & longitude.  Then use the *addfips* library to get the county FIPS code based on the state and county name."
   ]
  },
  {
   "cell_type": "code",
   "execution_count": 6,
   "id": "2387ffe9-b91d-4e29-a57c-aa291c220ede",
   "metadata": {},
   "outputs": [],
   "source": [
    "# Get the unique ZIP codes in the cms dataframe\n",
    "zips = cms['ZIP Code'].unique()\n",
    "\n",
    "# Convert zips to a list of string ZIP codes (because uszipcode library searches based on a string)\n",
    "zips = zips.astype(str).tolist()"
   ]
  },
  {
   "cell_type": "markdown",
   "id": "55ce2dbd-26d4-4227-9f22-dd04ba213990",
   "metadata": {
    "tags": []
   },
   "source": [
    "#### Get state, county name, latitude, and longitude for each ZIP code."
   ]
  },
  {
   "cell_type": "code",
   "execution_count": 7,
   "id": "220f00ea-aef4-4c3b-ba93-b787a2d27893",
   "metadata": {},
   "outputs": [],
   "source": [
    "# Create a search engine\n",
    "search = SearchEngine()\n",
    "\n",
    "# Create empty dictionary to store the state, county, latitude, & longitude for each ZIP code\n",
    "zip_map = {}\n",
    "\n",
    "# Look up each ZIP code, and if that ZIP is in the uszipcode database, add relevant info to zip_map\n",
    "for zip_code in zips:\n",
    "    info = search.by_zipcode(zip_code)\n",
    "    if info:\n",
    "        zip_map[zip_code] = {\n",
    "            'State': info.state,\n",
    "            'County': info.county,\n",
    "            'Latitude': info.lat,\n",
    "            'Longitude': info.lng\n",
    "        }"
   ]
  },
  {
   "cell_type": "markdown",
   "id": "c0f706ef-0047-470f-86d7-e4acce1deccd",
   "metadata": {},
   "source": [
    "#### Get the county FIPS code for each ZIP code."
   ]
  },
  {
   "cell_type": "code",
   "execution_count": 8,
   "id": "1dd98be1-6bfd-4bdc-9147-5f0fd2e60180",
   "metadata": {},
   "outputs": [],
   "source": [
    "# Initialize AddFIPS object called fips_tool\n",
    "fips_tool = af.AddFIPS()\n",
    "\n",
    "# For each ZIP code in zip_map, get the county FIPS code\n",
    "for zip_code in zip_map:\n",
    "    county = zip_map[zip_code]['County']\n",
    "    state = zip_map[zip_code]['State']\n",
    "    county_fips = fips_tool.get_county_fips(county, state)\n",
    "    # Add the FIPS code to that ZIP code's dictionary in zip_map\n",
    "    zip_map[zip_code]['Common State County FIPS Code'] = county_fips"
   ]
  },
  {
   "cell_type": "markdown",
   "id": "4f08265b-4c4b-4fd7-a080-0cc7c8a2d00e",
   "metadata": {},
   "source": [
    "#### Add county name, county FIPS code, latitude, & longitude into `cms` dataframe."
   ]
  },
  {
   "cell_type": "code",
   "execution_count": 9,
   "id": "d5abe9e8-5fb3-4a1a-a729-1afe450c41ef",
   "metadata": {},
   "outputs": [],
   "source": [
    "# Define a function called lookup that retrieves a value associated with a specific key for each ZIP code in zip_map\n",
    "def lookup(zip_code, key):\n",
    "    return zip_map[zip_code][key]\n",
    "\n",
    "# Define the keys that will be added as columns to cms\n",
    "keys = ['County', 'Common State County FIPS Code', 'Latitude', 'Longitude']\n",
    "\n",
    "# For each key, create a new column in cms, & use the apply method to store the evaluated result of lookup() as the column values\n",
    "for key in keys:\n",
    "    cms[key] = cms['ZIP Code'].apply(lambda x: lookup(str(x), key))"
   ]
  },
  {
   "cell_type": "code",
   "execution_count": 10,
   "id": "1408dd77-0fd9-4312-b817-5bd0d07a9e78",
   "metadata": {},
   "outputs": [
    {
     "name": "stdout",
     "output_type": "stream",
     "text": [
      "<class 'pandas.core.frame.DataFrame'>\n",
      "Int64Index: 2704 entries, 0 to 38433\n",
      "Data columns (total 43 columns):\n",
      " #   Column                                                 Non-Null Count  Dtype  \n",
      "---  ------                                                 --------------  -----  \n",
      " 0   Year                                                   2704 non-null   int64  \n",
      " 1   Quarter                                                2704 non-null   object \n",
      " 2   Facility ID                                            2704 non-null   object \n",
      " 3   Facility Name                                          2704 non-null   object \n",
      " 4   City                                                   2704 non-null   object \n",
      " 5   State                                                  2704 non-null   object \n",
      " 6   ZIP Code                                               2704 non-null   int64  \n",
      " 7   Hospital Type                                          2704 non-null   object \n",
      " 8   Hospital Ownership                                     2704 non-null   object \n",
      " 9   Emergency Services                                     2704 non-null   object \n",
      " 10  Meets criteria for meaningful use of EHRs              1308 non-null   object \n",
      " 11  Hospital overall rating                                2704 non-null   object \n",
      " 12  Mortality national comparison                          1623 non-null   object \n",
      " 13  Safety of care national comparison                     1623 non-null   object \n",
      " 14  Readmission national comparison                        1623 non-null   object \n",
      " 15  Patient experience national comparison                 1623 non-null   object \n",
      " 16  Effectiveness of care national comparison              1623 non-null   object \n",
      " 17  Timeliness of care national comparison                 1623 non-null   object \n",
      " 18  Efficient use of medical imaging national comparison   1623 non-null   object \n",
      " 19  Meets criteria for promoting interoperability of EHRs  697 non-null    object \n",
      " 20  MORT Group Measure Count                               1081 non-null   object \n",
      " 21  Count of Facility MORT Measures                        1081 non-null   object \n",
      " 22  Count of MORT Measures Better                          1081 non-null   object \n",
      " 23  Count of MORT Measures No Different                    1081 non-null   object \n",
      " 24  Count of MORT Measures Worse                           1081 non-null   object \n",
      " 25  Safety Group Measure Count                             1081 non-null   object \n",
      " 26  Count of Facility Safety Measures                      1081 non-null   object \n",
      " 27  Count of Safety Measures Better                        1081 non-null   object \n",
      " 28  Count of Safety Measures No Different                  1081 non-null   object \n",
      " 29  Count of Safety Measures Worse                         1081 non-null   object \n",
      " 30  READM Group Measure Count                              1081 non-null   object \n",
      " 31  Count of Facility READM Measures                       1081 non-null   object \n",
      " 32  Count of READM Measures Better                         1081 non-null   object \n",
      " 33  Count of READM Measures No Different                   1081 non-null   object \n",
      " 34  Count of READM Measures Worse                          1081 non-null   object \n",
      " 35  Pt Exp Group Measure Count                             1081 non-null   object \n",
      " 36  Count of Facility Pt Exp Measures                      1081 non-null   object \n",
      " 37  TE Group Measure Count                                 1081 non-null   object \n",
      " 38  Count of Facility TE Measures                          1081 non-null   object \n",
      " 39  County                                                 2704 non-null   object \n",
      " 40  Common State County FIPS Code                          2704 non-null   object \n",
      " 41  Latitude                                               2704 non-null   float64\n",
      " 42  Longitude                                              2704 non-null   float64\n",
      "dtypes: float64(2), int64(2), object(39)\n",
      "memory usage: 929.5+ KB\n"
     ]
    }
   ],
   "source": [
    "# Get info about transformed cms dataframe\n",
    "cms.info()"
   ]
  },
  {
   "cell_type": "markdown",
   "id": "181b2797-82cd-4b3c-b3e0-76eb32d6823c",
   "metadata": {},
   "source": [
    "#### Clean the `Hospital overall rating` column."
   ]
  },
  {
   "cell_type": "code",
   "execution_count": 11,
   "id": "26dee226-027a-4b15-bb5b-6b1bee279a48",
   "metadata": {},
   "outputs": [
    {
     "data": {
      "text/plain": [
       "Not Available    1056\n",
       "3                 676\n",
       "2                 455\n",
       "4                 352\n",
       "1                  95\n",
       "5                  70\n",
       "Name: Hospital overall rating, dtype: int64"
      ]
     },
     "execution_count": 11,
     "metadata": {},
     "output_type": "execute_result"
    }
   ],
   "source": [
    "# Check the sample size for each rating\n",
    "cms['Hospital overall rating'].value_counts()"
   ]
  },
  {
   "cell_type": "code",
   "execution_count": 12,
   "id": "06a27e73-9a32-4f50-8e43-af4e503b359d",
   "metadata": {},
   "outputs": [],
   "source": [
    "# Replace 'Not Available' values with NaN\n",
    "cms['Hospital overall rating'] = cms['Hospital overall rating'].replace('Not Available', pd.NA)"
   ]
  },
  {
   "cell_type": "code",
   "execution_count": 13,
   "id": "94d0ee43-506b-40de-a6d6-d8e86eb5c390",
   "metadata": {},
   "outputs": [
    {
     "data": {
      "text/plain": [
       "3    676\n",
       "2    455\n",
       "4    352\n",
       "1     95\n",
       "5     70\n",
       "Name: Hospital overall rating, dtype: int64"
      ]
     },
     "execution_count": 13,
     "metadata": {},
     "output_type": "execute_result"
    }
   ],
   "source": [
    "# Check the column to see that the replacement worked\n",
    "cms['Hospital overall rating'].value_counts()"
   ]
  },
  {
   "cell_type": "code",
   "execution_count": 14,
   "id": "26c68745-ad02-4b5e-9274-1d80af568243",
   "metadata": {},
   "outputs": [
    {
     "data": {
      "text/plain": [
       "dtype('O')"
      ]
     },
     "execution_count": 14,
     "metadata": {},
     "output_type": "execute_result"
    }
   ],
   "source": [
    "# Check the datatype of the column\n",
    "cms['Hospital overall rating'].dtype"
   ]
  },
  {
   "cell_type": "code",
   "execution_count": 15,
   "id": "d6a1db5b-a422-431d-b3b1-cd66eceeb0f6",
   "metadata": {},
   "outputs": [
    {
     "data": {
      "text/plain": [
       "Int64Dtype()"
      ]
     },
     "execution_count": 15,
     "metadata": {},
     "output_type": "execute_result"
    }
   ],
   "source": [
    "# Change the datatype to Int64 (use Int64 instead of int since there are NaNs)\n",
    "cms['Hospital overall rating'] = cms['Hospital overall rating'].astype('Int64')\n",
    "\n",
    "# Check to see that the conversion worked\n",
    "cms['Hospital overall rating'].dtype"
   ]
  }
 ],
 "metadata": {
  "kernelspec": {
   "display_name": "Python 3 (ipykernel)",
   "language": "python",
   "name": "python3"
  },
  "language_info": {
   "codemirror_mode": {
    "name": "ipython",
    "version": 3
   },
   "file_extension": ".py",
   "mimetype": "text/x-python",
   "name": "python",
   "nbconvert_exporter": "python",
   "pygments_lexer": "ipython3",
   "version": "3.10.9"
  }
 },
 "nbformat": 4,
 "nbformat_minor": 5
}
