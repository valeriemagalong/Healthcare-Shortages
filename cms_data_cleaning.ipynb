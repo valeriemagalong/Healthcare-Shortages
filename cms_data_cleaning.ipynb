{
 "cells": [
  {
   "cell_type": "markdown",
   "id": "d80c9cbc-7c02-4a58-8e08-e078c8e5b2ff",
   "metadata": {},
   "source": [
    "# CMS Hospital Quality of Care - Data Cleaning\n",
    "---"
   ]
  },
  {
   "cell_type": "code",
   "execution_count": 1,
   "id": "9de2cf4c-c52d-4848-a8ce-9ff922071da4",
   "metadata": {},
   "outputs": [],
   "source": [
    "import pandas as pd\n",
    "from uszipcode import SearchEngine"
   ]
  },
  {
   "cell_type": "code",
   "execution_count": 2,
   "id": "a6e483f7-3f08-42b6-883a-d6b98067fbe1",
   "metadata": {},
   "outputs": [],
   "source": [
    "# Create a list called files for the string paths to the raw data\n",
    "files = ['raw_data/2016_Hospital_General_Information.csv', 'raw_data/2017_Hospital_General_Information.csv',\n",
    "         'raw_data/2018_Hospital_General_Information.csv', 'raw_data/2019_Hospital_General_Information.csv',\n",
    "         'raw_data/2020_Hospital_General_Information.csv', 'raw_data/2021_Hospital_General_Information.csv',\n",
    "         'raw_data/2022_Hospital_General_Information.csv', 'raw_data/2023_Hospital_General_Information.csv']\n",
    "\n",
    "# Create an empty list called dfs to hold the dataframes, then read the .csvs and append to dfs\n",
    "dfs = []\n",
    "for file in files:\n",
    "    dfs.append(pd.read_csv(file, encoding = 'iso-8859-1'))\n",
    "\n",
    "# Union all dataframes in dfs into one df\n",
    "df = pd.concat(dfs, ignore_index = True)\n",
    "\n",
    "# Make copy of df called cms; cms will be transformed\n",
    "cms = df.copy()"
   ]
  },
  {
   "cell_type": "markdown",
   "id": "c947e983-f592-4dbe-b3fe-8606d8b9a6f9",
   "metadata": {},
   "source": [
    "#### Drop unnecessary columns"
   ]
  },
  {
   "cell_type": "code",
   "execution_count": 3,
   "id": "6a4652ba-c1c5-4a5e-a2ff-0110cfe1626a",
   "metadata": {},
   "outputs": [],
   "source": [
    "# Identify columns to be dropped\n",
    "cols_to_drop = ['Address', 'Phone Number', 'Hospital overall rating footnote', 'Mortality national comparison footnote',\n",
    "                'Safety of care national comparison footnote', 'Readmission national comparison footnote',\n",
    "                'Patient experience national comparison footnote', 'Effectiveness of care national comparison footnote',\n",
    "                'Timeliness of care national comparison footnote', 'Efficient use of medical imaging national comparison footnote',\n",
    "                'MORT Group Footnote', 'Safety Group Footnote', 'READM Group Footnote', 'Pt Exp Group Footnote',\n",
    "                'TE Group Footnote']\n",
    "\n",
    "cms = cms.drop(columns = cols_to_drop)"
   ]
  },
  {
   "cell_type": "markdown",
   "id": "c845390e-677d-4a6e-ae68-3c1e041a5780",
   "metadata": {},
   "source": [
    "#### I'm only interested in rows from Mississippi, Louisiana, & Alabama."
   ]
  },
  {
   "cell_type": "code",
   "execution_count": 4,
   "id": "e6185694-05b9-44e4-9483-61afe1ab7a7c",
   "metadata": {},
   "outputs": [
    {
     "data": {
      "text/plain": [
       "array(['AL', 'AK', 'AZ', 'AR', 'CA', 'CO', 'CT', 'DE', 'DC', 'FL', 'GA',\n",
       "       'HI', 'ID', 'IL', 'IN', 'IA', 'KS', 'KY', 'LA', 'ME', 'MD', 'MA',\n",
       "       'MI', 'MN', 'MS', 'MO', 'MT', 'NE', 'NV', 'NH', 'NJ', 'NM', 'NY',\n",
       "       'NC', 'ND', 'OH', 'OK', 'OR', 'PA', 'PR', 'RI', 'SC', 'SD', 'TN',\n",
       "       'TX', 'UT', 'VT', 'VA', 'WA', 'WV', 'WI', 'VI', 'WY', 'AS', 'GU',\n",
       "       'MP'], dtype=object)"
      ]
     },
     "execution_count": 4,
     "metadata": {},
     "output_type": "execute_result"
    }
   ],
   "source": [
    "# Check the unique states in the dataframe\n",
    "cms['State'].unique()"
   ]
  },
  {
   "cell_type": "code",
   "execution_count": 5,
   "id": "9c9d4f0d-f922-4ae3-abb7-f25828362fe9",
   "metadata": {},
   "outputs": [
    {
     "data": {
      "text/plain": [
       "array(['AL', 'LA', 'MS'], dtype=object)"
      ]
     },
     "execution_count": 5,
     "metadata": {},
     "output_type": "execute_result"
    }
   ],
   "source": [
    "# Drop all rows excepts those from MS, LA, & AL\n",
    "states = ['MS', 'LA', 'AL']\n",
    "\n",
    "cms = cms[cms['State'].isin(states)]\n",
    "\n",
    "# Check to see that the subset by states worked\n",
    "cms['State'].unique()"
   ]
  },
  {
   "cell_type": "markdown",
   "id": "44a9cefa-53ae-412e-b6db-1d43406183f9",
   "metadata": {},
   "source": [
    "#### I want to add a column named `Common State County FIPS Code` to the `cms` dataframe.  Use the *uszipcode* library to get county name, latitude, & longitude."
   ]
  },
  {
   "cell_type": "code",
   "execution_count": 6,
   "id": "2387ffe9-b91d-4e29-a57c-aa291c220ede",
   "metadata": {},
   "outputs": [],
   "source": [
    "# Get the unique ZIP codes in the cms dataframe\n",
    "zips = cms['ZIP Code'].unique()\n",
    "\n",
    "# Convert zips to a list of string ZIP codes\n",
    "zips = zips.astype(str).tolist()"
   ]
  },
  {
   "cell_type": "code",
   "execution_count": 7,
   "id": "220f00ea-aef4-4c3b-ba93-b787a2d27893",
   "metadata": {},
   "outputs": [],
   "source": [
    "# Create a search engine\n",
    "search = SearchEngine()\n",
    "\n",
    "# Create an empty dictionaries to store the county mapping, latitude mapping, & longitude mapping\n",
    "county_mapping = {}\n",
    "lat_mapping = {}\n",
    "lng_mapping = {}\n",
    "\n",
    "# Look up each ZIP code, and if that ZIP is in the uszipcode database, add relevent info to the dictionaries\n",
    "for zip_code in zips:\n",
    "    result = search.by_zipcode(zip_code)\n",
    "    if result:\n",
    "        county_mapping[zip_code] = result.county\n",
    "        lat_mapping[zip_code] = result.lat\n",
    "        lng_mapping[zip_code] = result.lng"
   ]
  },
  {
   "cell_type": "markdown",
   "id": "c0f706ef-0047-470f-86d7-e4acce1deccd",
   "metadata": {},
   "source": [
    "#### Export the `count_mapping` dictionary to a .csv, then manually enter FIPS county code data."
   ]
  },
  {
   "cell_type": "code",
   "execution_count": 8,
   "id": "1dd98be1-6bfd-4bdc-9147-5f0fd2e60180",
   "metadata": {},
   "outputs": [],
   "source": [
    "# Export county_mapping dictionary to a .csv\n",
    "# pd.Series(county_mapping).to_csv('raw_data/fips_mapping.csv')"
   ]
  }
 ],
 "metadata": {
  "kernelspec": {
   "display_name": "Python 3 (ipykernel)",
   "language": "python",
   "name": "python3"
  },
  "language_info": {
   "codemirror_mode": {
    "name": "ipython",
    "version": 3
   },
   "file_extension": ".py",
   "mimetype": "text/x-python",
   "name": "python",
   "nbconvert_exporter": "python",
   "pygments_lexer": "ipython3",
   "version": "3.10.9"
  }
 },
 "nbformat": 4,
 "nbformat_minor": 5
}
