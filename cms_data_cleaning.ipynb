{
 "cells": [
  {
   "cell_type": "markdown",
   "id": "d80c9cbc-7c02-4a58-8e08-e078c8e5b2ff",
   "metadata": {},
   "source": [
    "# CMS Hospital Quality of Care - Data Cleaning\n",
    "---"
   ]
  },
  {
   "cell_type": "code",
   "execution_count": 1,
   "id": "9de2cf4c-c52d-4848-a8ce-9ff922071da4",
   "metadata": {},
   "outputs": [],
   "source": [
    "import pandas as pd"
   ]
  },
  {
   "cell_type": "code",
   "execution_count": 2,
   "id": "a6e483f7-3f08-42b6-883a-d6b98067fbe1",
   "metadata": {},
   "outputs": [],
   "source": [
    "# Create a list called files for the string paths to the raw data\n",
    "files = ['raw_data/2016_Hospital_General_Information.csv', 'raw_data/2017_Hospital_General_Information.csv',\n",
    "         'raw_data/2018_Hospital_General_Information.csv', 'raw_data/2019_Hospital_General_Information.csv',\n",
    "         'raw_data/2020_Hospital_General_Information.csv', 'raw_data/2021_Hospital_General_Information.csv',\n",
    "         'raw_data/2022_Hospital_General_Information.csv', 'raw_data/2023_Hospital_General_Information.csv']\n",
    "\n",
    "# Create an empty list called dfs to hold the dataframes, then read the .csvs and append to dfs\n",
    "dfs = []\n",
    "for file in files:\n",
    "    dfs.append(pd.read_csv(file, encoding = 'iso-8859-1'))\n",
    "\n",
    "# Union all dataframes in dfs into one df\n",
    "df = pd.concat(dfs, ignore_index = True)\n",
    "\n",
    "# Make copy of df called cms; cms will be transformed\n",
    "cms = df.copy()"
   ]
  },
  {
   "cell_type": "markdown",
   "id": "c947e983-f592-4dbe-b3fe-8606d8b9a6f9",
   "metadata": {},
   "source": [
    "#### Drop unnecessary columns"
   ]
  }
 ],
 "metadata": {
  "kernelspec": {
   "display_name": "Python 3 (ipykernel)",
   "language": "python",
   "name": "python3"
  },
  "language_info": {
   "codemirror_mode": {
    "name": "ipython",
    "version": 3
   },
   "file_extension": ".py",
   "mimetype": "text/x-python",
   "name": "python",
   "nbconvert_exporter": "python",
   "pygments_lexer": "ipython3",
   "version": "3.10.9"
  }
 },
 "nbformat": 4,
 "nbformat_minor": 5
}
